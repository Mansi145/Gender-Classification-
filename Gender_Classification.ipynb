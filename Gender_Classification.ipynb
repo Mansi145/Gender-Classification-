{
  "nbformat": 4,
  "nbformat_minor": 0,
  "metadata": {
    "colab": {
      "name": "Gender Classification.ipynb",
      "version": "0.3.2",
      "provenance": [],
      "collapsed_sections": [],
      "include_colab_link": true
    },
    "kernelspec": {
      "name": "python3",
      "display_name": "Python 3"
    },
    "accelerator": "GPU"
  },
  "cells": [
    {
      "cell_type": "markdown",
      "metadata": {
        "id": "view-in-github",
        "colab_type": "text"
      },
      "source": [
        "<a href=\"https://colab.research.google.com/github/Mansi145/Gender-Classification-/blob/master/Gender_Classification.ipynb\" target=\"_parent\"><img src=\"https://colab.research.google.com/assets/colab-badge.svg\" alt=\"Open In Colab\"/></a>"
      ]
    },
    {
      "cell_type": "markdown",
      "metadata": {
        "id": "AAXDzQfxp8Fg",
        "colab_type": "text"
      },
      "source": [
        ""
      ]
    },
    {
      "cell_type": "code",
      "metadata": {
        "id": "k5AnEqib0So2",
        "colab_type": "code",
        "outputId": "ecefd085-7e28-4032-fef7-b3ed47b4e541",
        "colab": {
          "base_uri": "https://localhost:8080/",
          "height": 34
        }
      },
      "source": [
        "from google.colab import drive\n",
        "drive.mount('/content/gdrive')"
      ],
      "execution_count": 0,
      "outputs": [
        {
          "output_type": "stream",
          "text": [
            "Drive already mounted at /content/gdrive; to attempt to forcibly remount, call drive.mount(\"/content/gdrive\", force_remount=True).\n"
          ],
          "name": "stdout"
        }
      ]
    },
    {
      "cell_type": "code",
      "metadata": {
        "id": "z-gEUzJ_FkEe",
        "colab_type": "code",
        "colab": {}
      },
      "source": [
        "import cv2\n",
        "import os\n",
        "import pandas as pd\n",
        "import numpy as np\n",
        "from PIL import Image\n",
        "from IPython.display import display\n",
        "import matplotlib.pyplot as plt\n",
        "\n",
        "from sklearn.linear_model import LogisticRegression\n",
        "from sklearn.svm import LinearSVC, SVC\n",
        "from sklearn.ensemble import RandomForestClassifier, AdaBoostClassifier\n",
        "from sklearn.tree import DecisionTreeClassifier, ExtraTreeClassifier\n",
        "from sklearn.metrics import f1_score\n",
        "from sklearn.pipeline import Pipeline\n",
        "from sklearn.decomposition import PCA\n",
        "\n",
        "from sklearn.model_selection import train_test_split, GridSearchCV, StratifiedKFold, learning_curve, ShuffleSplit\n",
        "from sklearn.preprocessing import MinMaxScaler, StandardScaler"
      ],
      "execution_count": 0,
      "outputs": []
    },
    {
      "cell_type": "code",
      "metadata": {
        "id": "4OFKNdNgOWit",
        "colab_type": "code",
        "colab": {}
      },
      "source": [
        "path = '/content/gdrive/My Drive/Summer Project/Dataset/Main_Dataset/Train'\n",
        "os.chdir(path)"
      ],
      "execution_count": 0,
      "outputs": []
    },
    {
      "cell_type": "code",
      "metadata": {
        "id": "wBMMjYeTnmBU",
        "colab_type": "code",
        "outputId": "fb958893-9626-41af-81bf-98205b4f6f16",
        "colab": {
          "base_uri": "https://localhost:8080/",
          "height": 34
        }
      },
      "source": [
        "face_cascade = cv2.CascadeClassifier('../haarcascade_frontalface_default.xml')\n",
        "directory_main = os.listdir()\n",
        "directory_main"
      ],
      "execution_count": 0,
      "outputs": [
        {
          "output_type": "execute_result",
          "data": {
            "text/plain": [
              "['Male', 'Female', 'Gender.csv', 'Gender_array.csv']"
            ]
          },
          "metadata": {
            "tags": []
          },
          "execution_count": 172
        }
      ]
    },
    {
      "cell_type": "code",
      "metadata": {
        "id": "EaXrUtopN_sg",
        "colab_type": "code",
        "outputId": "7aca79d3-8768-4841-bb42-27d97f062801",
        "colab": {
          "base_uri": "https://localhost:8080/",
          "height": 51
        }
      },
      "source": [
        "for gender in directory_main[:2]:\n",
        "  print('{} = '.format(gender), len(os.listdir(gender)))"
      ],
      "execution_count": 0,
      "outputs": [
        {
          "output_type": "stream",
          "text": [
            "Male =  1939\n",
            "Female =  1834\n"
          ],
          "name": "stdout"
        }
      ]
    },
    {
      "cell_type": "code",
      "metadata": {
        "id": "SHbYLjmhOF3G",
        "colab_type": "code",
        "colab": {}
      },
      "source": [
        "gender_features = pd.DataFrame()"
      ],
      "execution_count": 0,
      "outputs": []
    },
    {
      "cell_type": "code",
      "metadata": {
        "id": "UBjqd0N2OFqu",
        "colab_type": "code",
        "outputId": "26d2b0ae-98b8-47c7-bb25-89880bc3f93f",
        "colab": {
          "base_uri": "https://localhost:8080/",
          "height": 253
        }
      },
      "source": [
        "for gender in directory_main[:2]:\n",
        "  \n",
        "  training_images = os.listdir(gender)\n",
        "  \n",
        "  for data in training_images:\n",
        "    if gender == 'Female':\n",
        "      label_class = 1\n",
        "    elif gender == 'Male':\n",
        "      label_class = 2\n",
        "        \n",
        "    path_to_data = gender + '/' + data\n",
        "\n",
        "    img1 = cv2.imread(path_to_data)\n",
        "    gray = cv2.cvtColor(img1, cv2.COLOR_BGR2GRAY)\n",
        "\n",
        "    face = face_cascade.detectMultiScale(gray,1.3,5)\n",
        "    for (a,b,w,h) in face:\n",
        "        face_crop = gray[b:b+h, a:a+w]\n",
        "        \n",
        "   \n",
        "    face_crop_resized = cv2.resize(face_crop, dsize = (80,80))\n",
        "    \n",
        "    flattened_face_array = np.append(face_crop_resized, label_class)\n",
        "    \n",
        "    series_data_face = pd.Series(flattened_face_array)\n",
        "    \n",
        "    gender_features = gender_features.append(series_data_face, ignore_index = True)\n",
        "\n",
        "gender_features.head()"
      ],
      "execution_count": 0,
      "outputs": [
        {
          "output_type": "execute_result",
          "data": {
            "text/html": [
              "<div>\n",
              "<style scoped>\n",
              "    .dataframe tbody tr th:only-of-type {\n",
              "        vertical-align: middle;\n",
              "    }\n",
              "\n",
              "    .dataframe tbody tr th {\n",
              "        vertical-align: top;\n",
              "    }\n",
              "\n",
              "    .dataframe thead th {\n",
              "        text-align: right;\n",
              "    }\n",
              "</style>\n",
              "<table border=\"1\" class=\"dataframe\">\n",
              "  <thead>\n",
              "    <tr style=\"text-align: right;\">\n",
              "      <th></th>\n",
              "      <th>0</th>\n",
              "      <th>1</th>\n",
              "      <th>2</th>\n",
              "      <th>3</th>\n",
              "      <th>4</th>\n",
              "      <th>5</th>\n",
              "      <th>6</th>\n",
              "      <th>7</th>\n",
              "      <th>8</th>\n",
              "      <th>9</th>\n",
              "      <th>10</th>\n",
              "      <th>11</th>\n",
              "      <th>12</th>\n",
              "      <th>13</th>\n",
              "      <th>14</th>\n",
              "      <th>15</th>\n",
              "      <th>16</th>\n",
              "      <th>17</th>\n",
              "      <th>18</th>\n",
              "      <th>19</th>\n",
              "      <th>20</th>\n",
              "      <th>21</th>\n",
              "      <th>22</th>\n",
              "      <th>23</th>\n",
              "      <th>24</th>\n",
              "      <th>25</th>\n",
              "      <th>26</th>\n",
              "      <th>27</th>\n",
              "      <th>28</th>\n",
              "      <th>29</th>\n",
              "      <th>30</th>\n",
              "      <th>31</th>\n",
              "      <th>32</th>\n",
              "      <th>33</th>\n",
              "      <th>34</th>\n",
              "      <th>35</th>\n",
              "      <th>36</th>\n",
              "      <th>37</th>\n",
              "      <th>38</th>\n",
              "      <th>39</th>\n",
              "      <th>...</th>\n",
              "      <th>6361</th>\n",
              "      <th>6362</th>\n",
              "      <th>6363</th>\n",
              "      <th>6364</th>\n",
              "      <th>6365</th>\n",
              "      <th>6366</th>\n",
              "      <th>6367</th>\n",
              "      <th>6368</th>\n",
              "      <th>6369</th>\n",
              "      <th>6370</th>\n",
              "      <th>6371</th>\n",
              "      <th>6372</th>\n",
              "      <th>6373</th>\n",
              "      <th>6374</th>\n",
              "      <th>6375</th>\n",
              "      <th>6376</th>\n",
              "      <th>6377</th>\n",
              "      <th>6378</th>\n",
              "      <th>6379</th>\n",
              "      <th>6380</th>\n",
              "      <th>6381</th>\n",
              "      <th>6382</th>\n",
              "      <th>6383</th>\n",
              "      <th>6384</th>\n",
              "      <th>6385</th>\n",
              "      <th>6386</th>\n",
              "      <th>6387</th>\n",
              "      <th>6388</th>\n",
              "      <th>6389</th>\n",
              "      <th>6390</th>\n",
              "      <th>6391</th>\n",
              "      <th>6392</th>\n",
              "      <th>6393</th>\n",
              "      <th>6394</th>\n",
              "      <th>6395</th>\n",
              "      <th>6396</th>\n",
              "      <th>6397</th>\n",
              "      <th>6398</th>\n",
              "      <th>6399</th>\n",
              "      <th>6400</th>\n",
              "    </tr>\n",
              "  </thead>\n",
              "  <tbody>\n",
              "    <tr>\n",
              "      <th>0</th>\n",
              "      <td>33.0</td>\n",
              "      <td>36.0</td>\n",
              "      <td>33.0</td>\n",
              "      <td>27.0</td>\n",
              "      <td>21.0</td>\n",
              "      <td>16.0</td>\n",
              "      <td>14.0</td>\n",
              "      <td>13.0</td>\n",
              "      <td>11.0</td>\n",
              "      <td>9.0</td>\n",
              "      <td>9.0</td>\n",
              "      <td>15.0</td>\n",
              "      <td>18.0</td>\n",
              "      <td>21.0</td>\n",
              "      <td>24.0</td>\n",
              "      <td>24.0</td>\n",
              "      <td>23.0</td>\n",
              "      <td>22.0</td>\n",
              "      <td>22.0</td>\n",
              "      <td>27.0</td>\n",
              "      <td>29.0</td>\n",
              "      <td>30.0</td>\n",
              "      <td>30.0</td>\n",
              "      <td>29.0</td>\n",
              "      <td>29.0</td>\n",
              "      <td>30.0</td>\n",
              "      <td>31.0</td>\n",
              "      <td>31.0</td>\n",
              "      <td>29.0</td>\n",
              "      <td>30.0</td>\n",
              "      <td>28.0</td>\n",
              "      <td>24.0</td>\n",
              "      <td>18.0</td>\n",
              "      <td>15.0</td>\n",
              "      <td>16.0</td>\n",
              "      <td>18.0</td>\n",
              "      <td>17.0</td>\n",
              "      <td>17.0</td>\n",
              "      <td>17.0</td>\n",
              "      <td>17.0</td>\n",
              "      <td>...</td>\n",
              "      <td>36.0</td>\n",
              "      <td>36.0</td>\n",
              "      <td>37.0</td>\n",
              "      <td>37.0</td>\n",
              "      <td>38.0</td>\n",
              "      <td>38.0</td>\n",
              "      <td>38.0</td>\n",
              "      <td>38.0</td>\n",
              "      <td>38.0</td>\n",
              "      <td>38.0</td>\n",
              "      <td>39.0</td>\n",
              "      <td>39.0</td>\n",
              "      <td>37.0</td>\n",
              "      <td>36.0</td>\n",
              "      <td>36.0</td>\n",
              "      <td>36.0</td>\n",
              "      <td>36.0</td>\n",
              "      <td>36.0</td>\n",
              "      <td>35.0</td>\n",
              "      <td>34.0</td>\n",
              "      <td>33.0</td>\n",
              "      <td>30.0</td>\n",
              "      <td>28.0</td>\n",
              "      <td>26.0</td>\n",
              "      <td>24.0</td>\n",
              "      <td>22.0</td>\n",
              "      <td>19.0</td>\n",
              "      <td>15.0</td>\n",
              "      <td>12.0</td>\n",
              "      <td>14.0</td>\n",
              "      <td>16.0</td>\n",
              "      <td>15.0</td>\n",
              "      <td>14.0</td>\n",
              "      <td>14.0</td>\n",
              "      <td>14.0</td>\n",
              "      <td>14.0</td>\n",
              "      <td>14.0</td>\n",
              "      <td>15.0</td>\n",
              "      <td>13.0</td>\n",
              "      <td>2.0</td>\n",
              "    </tr>\n",
              "    <tr>\n",
              "      <th>1</th>\n",
              "      <td>7.0</td>\n",
              "      <td>8.0</td>\n",
              "      <td>10.0</td>\n",
              "      <td>9.0</td>\n",
              "      <td>8.0</td>\n",
              "      <td>10.0</td>\n",
              "      <td>11.0</td>\n",
              "      <td>11.0</td>\n",
              "      <td>12.0</td>\n",
              "      <td>11.0</td>\n",
              "      <td>13.0</td>\n",
              "      <td>15.0</td>\n",
              "      <td>17.0</td>\n",
              "      <td>23.0</td>\n",
              "      <td>32.0</td>\n",
              "      <td>40.0</td>\n",
              "      <td>39.0</td>\n",
              "      <td>36.0</td>\n",
              "      <td>32.0</td>\n",
              "      <td>29.0</td>\n",
              "      <td>31.0</td>\n",
              "      <td>35.0</td>\n",
              "      <td>37.0</td>\n",
              "      <td>39.0</td>\n",
              "      <td>41.0</td>\n",
              "      <td>42.0</td>\n",
              "      <td>43.0</td>\n",
              "      <td>44.0</td>\n",
              "      <td>43.0</td>\n",
              "      <td>41.0</td>\n",
              "      <td>37.0</td>\n",
              "      <td>33.0</td>\n",
              "      <td>29.0</td>\n",
              "      <td>25.0</td>\n",
              "      <td>22.0</td>\n",
              "      <td>21.0</td>\n",
              "      <td>19.0</td>\n",
              "      <td>16.0</td>\n",
              "      <td>16.0</td>\n",
              "      <td>16.0</td>\n",
              "      <td>...</td>\n",
              "      <td>45.0</td>\n",
              "      <td>45.0</td>\n",
              "      <td>45.0</td>\n",
              "      <td>47.0</td>\n",
              "      <td>47.0</td>\n",
              "      <td>47.0</td>\n",
              "      <td>45.0</td>\n",
              "      <td>43.0</td>\n",
              "      <td>41.0</td>\n",
              "      <td>38.0</td>\n",
              "      <td>37.0</td>\n",
              "      <td>37.0</td>\n",
              "      <td>36.0</td>\n",
              "      <td>35.0</td>\n",
              "      <td>35.0</td>\n",
              "      <td>35.0</td>\n",
              "      <td>39.0</td>\n",
              "      <td>38.0</td>\n",
              "      <td>38.0</td>\n",
              "      <td>37.0</td>\n",
              "      <td>35.0</td>\n",
              "      <td>30.0</td>\n",
              "      <td>26.0</td>\n",
              "      <td>21.0</td>\n",
              "      <td>16.0</td>\n",
              "      <td>11.0</td>\n",
              "      <td>9.0</td>\n",
              "      <td>10.0</td>\n",
              "      <td>11.0</td>\n",
              "      <td>10.0</td>\n",
              "      <td>10.0</td>\n",
              "      <td>10.0</td>\n",
              "      <td>10.0</td>\n",
              "      <td>10.0</td>\n",
              "      <td>10.0</td>\n",
              "      <td>10.0</td>\n",
              "      <td>12.0</td>\n",
              "      <td>12.0</td>\n",
              "      <td>12.0</td>\n",
              "      <td>2.0</td>\n",
              "    </tr>\n",
              "    <tr>\n",
              "      <th>2</th>\n",
              "      <td>21.0</td>\n",
              "      <td>20.0</td>\n",
              "      <td>18.0</td>\n",
              "      <td>17.0</td>\n",
              "      <td>15.0</td>\n",
              "      <td>13.0</td>\n",
              "      <td>12.0</td>\n",
              "      <td>11.0</td>\n",
              "      <td>10.0</td>\n",
              "      <td>11.0</td>\n",
              "      <td>12.0</td>\n",
              "      <td>18.0</td>\n",
              "      <td>31.0</td>\n",
              "      <td>45.0</td>\n",
              "      <td>53.0</td>\n",
              "      <td>53.0</td>\n",
              "      <td>47.0</td>\n",
              "      <td>40.0</td>\n",
              "      <td>39.0</td>\n",
              "      <td>41.0</td>\n",
              "      <td>47.0</td>\n",
              "      <td>53.0</td>\n",
              "      <td>57.0</td>\n",
              "      <td>58.0</td>\n",
              "      <td>61.0</td>\n",
              "      <td>64.0</td>\n",
              "      <td>67.0</td>\n",
              "      <td>70.0</td>\n",
              "      <td>78.0</td>\n",
              "      <td>82.0</td>\n",
              "      <td>77.0</td>\n",
              "      <td>68.0</td>\n",
              "      <td>57.0</td>\n",
              "      <td>46.0</td>\n",
              "      <td>35.0</td>\n",
              "      <td>29.0</td>\n",
              "      <td>26.0</td>\n",
              "      <td>23.0</td>\n",
              "      <td>19.0</td>\n",
              "      <td>17.0</td>\n",
              "      <td>...</td>\n",
              "      <td>40.0</td>\n",
              "      <td>39.0</td>\n",
              "      <td>38.0</td>\n",
              "      <td>37.0</td>\n",
              "      <td>38.0</td>\n",
              "      <td>40.0</td>\n",
              "      <td>42.0</td>\n",
              "      <td>42.0</td>\n",
              "      <td>40.0</td>\n",
              "      <td>38.0</td>\n",
              "      <td>37.0</td>\n",
              "      <td>37.0</td>\n",
              "      <td>36.0</td>\n",
              "      <td>35.0</td>\n",
              "      <td>34.0</td>\n",
              "      <td>32.0</td>\n",
              "      <td>31.0</td>\n",
              "      <td>30.0</td>\n",
              "      <td>29.0</td>\n",
              "      <td>29.0</td>\n",
              "      <td>29.0</td>\n",
              "      <td>32.0</td>\n",
              "      <td>32.0</td>\n",
              "      <td>30.0</td>\n",
              "      <td>25.0</td>\n",
              "      <td>19.0</td>\n",
              "      <td>14.0</td>\n",
              "      <td>11.0</td>\n",
              "      <td>10.0</td>\n",
              "      <td>11.0</td>\n",
              "      <td>10.0</td>\n",
              "      <td>10.0</td>\n",
              "      <td>10.0</td>\n",
              "      <td>11.0</td>\n",
              "      <td>11.0</td>\n",
              "      <td>11.0</td>\n",
              "      <td>12.0</td>\n",
              "      <td>12.0</td>\n",
              "      <td>12.0</td>\n",
              "      <td>2.0</td>\n",
              "    </tr>\n",
              "    <tr>\n",
              "      <th>3</th>\n",
              "      <td>12.0</td>\n",
              "      <td>14.0</td>\n",
              "      <td>18.0</td>\n",
              "      <td>21.0</td>\n",
              "      <td>19.0</td>\n",
              "      <td>14.0</td>\n",
              "      <td>11.0</td>\n",
              "      <td>10.0</td>\n",
              "      <td>11.0</td>\n",
              "      <td>13.0</td>\n",
              "      <td>15.0</td>\n",
              "      <td>17.0</td>\n",
              "      <td>22.0</td>\n",
              "      <td>35.0</td>\n",
              "      <td>53.0</td>\n",
              "      <td>61.0</td>\n",
              "      <td>53.0</td>\n",
              "      <td>40.0</td>\n",
              "      <td>38.0</td>\n",
              "      <td>38.0</td>\n",
              "      <td>38.0</td>\n",
              "      <td>40.0</td>\n",
              "      <td>45.0</td>\n",
              "      <td>52.0</td>\n",
              "      <td>57.0</td>\n",
              "      <td>61.0</td>\n",
              "      <td>59.0</td>\n",
              "      <td>56.0</td>\n",
              "      <td>54.0</td>\n",
              "      <td>51.0</td>\n",
              "      <td>47.0</td>\n",
              "      <td>42.0</td>\n",
              "      <td>39.0</td>\n",
              "      <td>35.0</td>\n",
              "      <td>30.0</td>\n",
              "      <td>25.0</td>\n",
              "      <td>23.0</td>\n",
              "      <td>22.0</td>\n",
              "      <td>20.0</td>\n",
              "      <td>18.0</td>\n",
              "      <td>...</td>\n",
              "      <td>44.0</td>\n",
              "      <td>44.0</td>\n",
              "      <td>43.0</td>\n",
              "      <td>42.0</td>\n",
              "      <td>42.0</td>\n",
              "      <td>43.0</td>\n",
              "      <td>45.0</td>\n",
              "      <td>48.0</td>\n",
              "      <td>50.0</td>\n",
              "      <td>48.0</td>\n",
              "      <td>45.0</td>\n",
              "      <td>43.0</td>\n",
              "      <td>42.0</td>\n",
              "      <td>41.0</td>\n",
              "      <td>39.0</td>\n",
              "      <td>36.0</td>\n",
              "      <td>34.0</td>\n",
              "      <td>32.0</td>\n",
              "      <td>32.0</td>\n",
              "      <td>32.0</td>\n",
              "      <td>35.0</td>\n",
              "      <td>36.0</td>\n",
              "      <td>36.0</td>\n",
              "      <td>37.0</td>\n",
              "      <td>35.0</td>\n",
              "      <td>30.0</td>\n",
              "      <td>24.0</td>\n",
              "      <td>16.0</td>\n",
              "      <td>12.0</td>\n",
              "      <td>12.0</td>\n",
              "      <td>11.0</td>\n",
              "      <td>11.0</td>\n",
              "      <td>10.0</td>\n",
              "      <td>10.0</td>\n",
              "      <td>10.0</td>\n",
              "      <td>10.0</td>\n",
              "      <td>10.0</td>\n",
              "      <td>10.0</td>\n",
              "      <td>10.0</td>\n",
              "      <td>2.0</td>\n",
              "    </tr>\n",
              "    <tr>\n",
              "      <th>4</th>\n",
              "      <td>12.0</td>\n",
              "      <td>13.0</td>\n",
              "      <td>13.0</td>\n",
              "      <td>13.0</td>\n",
              "      <td>12.0</td>\n",
              "      <td>10.0</td>\n",
              "      <td>12.0</td>\n",
              "      <td>13.0</td>\n",
              "      <td>10.0</td>\n",
              "      <td>7.0</td>\n",
              "      <td>11.0</td>\n",
              "      <td>14.0</td>\n",
              "      <td>20.0</td>\n",
              "      <td>28.0</td>\n",
              "      <td>39.0</td>\n",
              "      <td>48.0</td>\n",
              "      <td>51.0</td>\n",
              "      <td>37.0</td>\n",
              "      <td>33.0</td>\n",
              "      <td>29.0</td>\n",
              "      <td>29.0</td>\n",
              "      <td>34.0</td>\n",
              "      <td>41.0</td>\n",
              "      <td>46.0</td>\n",
              "      <td>50.0</td>\n",
              "      <td>51.0</td>\n",
              "      <td>51.0</td>\n",
              "      <td>50.0</td>\n",
              "      <td>47.0</td>\n",
              "      <td>45.0</td>\n",
              "      <td>43.0</td>\n",
              "      <td>38.0</td>\n",
              "      <td>36.0</td>\n",
              "      <td>32.0</td>\n",
              "      <td>28.0</td>\n",
              "      <td>24.0</td>\n",
              "      <td>21.0</td>\n",
              "      <td>18.0</td>\n",
              "      <td>17.0</td>\n",
              "      <td>17.0</td>\n",
              "      <td>...</td>\n",
              "      <td>45.0</td>\n",
              "      <td>44.0</td>\n",
              "      <td>44.0</td>\n",
              "      <td>43.0</td>\n",
              "      <td>45.0</td>\n",
              "      <td>45.0</td>\n",
              "      <td>44.0</td>\n",
              "      <td>44.0</td>\n",
              "      <td>46.0</td>\n",
              "      <td>48.0</td>\n",
              "      <td>47.0</td>\n",
              "      <td>45.0</td>\n",
              "      <td>43.0</td>\n",
              "      <td>42.0</td>\n",
              "      <td>40.0</td>\n",
              "      <td>38.0</td>\n",
              "      <td>36.0</td>\n",
              "      <td>35.0</td>\n",
              "      <td>34.0</td>\n",
              "      <td>33.0</td>\n",
              "      <td>33.0</td>\n",
              "      <td>34.0</td>\n",
              "      <td>36.0</td>\n",
              "      <td>37.0</td>\n",
              "      <td>36.0</td>\n",
              "      <td>34.0</td>\n",
              "      <td>30.0</td>\n",
              "      <td>23.0</td>\n",
              "      <td>16.0</td>\n",
              "      <td>12.0</td>\n",
              "      <td>13.0</td>\n",
              "      <td>13.0</td>\n",
              "      <td>12.0</td>\n",
              "      <td>9.0</td>\n",
              "      <td>9.0</td>\n",
              "      <td>9.0</td>\n",
              "      <td>10.0</td>\n",
              "      <td>11.0</td>\n",
              "      <td>11.0</td>\n",
              "      <td>2.0</td>\n",
              "    </tr>\n",
              "  </tbody>\n",
              "</table>\n",
              "<p>5 rows × 6401 columns</p>\n",
              "</div>"
            ],
            "text/plain": [
              "   0     1     2     3     4     5     ...  6395  6396  6397  6398  6399  6400\n",
              "0  33.0  36.0  33.0  27.0  21.0  16.0  ...  14.0  14.0  14.0  15.0  13.0   2.0\n",
              "1   7.0   8.0  10.0   9.0   8.0  10.0  ...  10.0  10.0  12.0  12.0  12.0   2.0\n",
              "2  21.0  20.0  18.0  17.0  15.0  13.0  ...  11.0  11.0  12.0  12.0  12.0   2.0\n",
              "3  12.0  14.0  18.0  21.0  19.0  14.0  ...  10.0  10.0  10.0  10.0  10.0   2.0\n",
              "4  12.0  13.0  13.0  13.0  12.0  10.0  ...   9.0   9.0  10.0  11.0  11.0   2.0\n",
              "\n",
              "[5 rows x 6401 columns]"
            ]
          },
          "metadata": {
            "tags": []
          },
          "execution_count": 173
        }
      ]
    },
    {
      "cell_type": "code",
      "metadata": {
        "id": "1nwjgbDTON9m",
        "colab_type": "code",
        "colab": {}
      },
      "source": [
        "gender_features.rename(columns = {6400: 'Label'}, inplace = True)"
      ],
      "execution_count": 0,
      "outputs": []
    },
    {
      "cell_type": "code",
      "metadata": {
        "id": "7YjGvqLmQXs5",
        "colab_type": "code",
        "outputId": "b3435523-d5da-4d44-9f6f-808386db7da9",
        "colab": {
          "base_uri": "https://localhost:8080/",
          "height": 253
        }
      },
      "source": [
        "gender_features.head()"
      ],
      "execution_count": 0,
      "outputs": [
        {
          "output_type": "execute_result",
          "data": {
            "text/html": [
              "<div>\n",
              "<style scoped>\n",
              "    .dataframe tbody tr th:only-of-type {\n",
              "        vertical-align: middle;\n",
              "    }\n",
              "\n",
              "    .dataframe tbody tr th {\n",
              "        vertical-align: top;\n",
              "    }\n",
              "\n",
              "    .dataframe thead th {\n",
              "        text-align: right;\n",
              "    }\n",
              "</style>\n",
              "<table border=\"1\" class=\"dataframe\">\n",
              "  <thead>\n",
              "    <tr style=\"text-align: right;\">\n",
              "      <th></th>\n",
              "      <th>0</th>\n",
              "      <th>1</th>\n",
              "      <th>2</th>\n",
              "      <th>3</th>\n",
              "      <th>4</th>\n",
              "      <th>5</th>\n",
              "      <th>6</th>\n",
              "      <th>7</th>\n",
              "      <th>8</th>\n",
              "      <th>9</th>\n",
              "      <th>10</th>\n",
              "      <th>11</th>\n",
              "      <th>12</th>\n",
              "      <th>13</th>\n",
              "      <th>14</th>\n",
              "      <th>15</th>\n",
              "      <th>16</th>\n",
              "      <th>17</th>\n",
              "      <th>18</th>\n",
              "      <th>19</th>\n",
              "      <th>20</th>\n",
              "      <th>21</th>\n",
              "      <th>22</th>\n",
              "      <th>23</th>\n",
              "      <th>24</th>\n",
              "      <th>25</th>\n",
              "      <th>26</th>\n",
              "      <th>27</th>\n",
              "      <th>28</th>\n",
              "      <th>29</th>\n",
              "      <th>30</th>\n",
              "      <th>31</th>\n",
              "      <th>32</th>\n",
              "      <th>33</th>\n",
              "      <th>34</th>\n",
              "      <th>35</th>\n",
              "      <th>36</th>\n",
              "      <th>37</th>\n",
              "      <th>38</th>\n",
              "      <th>39</th>\n",
              "      <th>...</th>\n",
              "      <th>6361</th>\n",
              "      <th>6362</th>\n",
              "      <th>6363</th>\n",
              "      <th>6364</th>\n",
              "      <th>6365</th>\n",
              "      <th>6366</th>\n",
              "      <th>6367</th>\n",
              "      <th>6368</th>\n",
              "      <th>6369</th>\n",
              "      <th>6370</th>\n",
              "      <th>6371</th>\n",
              "      <th>6372</th>\n",
              "      <th>6373</th>\n",
              "      <th>6374</th>\n",
              "      <th>6375</th>\n",
              "      <th>6376</th>\n",
              "      <th>6377</th>\n",
              "      <th>6378</th>\n",
              "      <th>6379</th>\n",
              "      <th>6380</th>\n",
              "      <th>6381</th>\n",
              "      <th>6382</th>\n",
              "      <th>6383</th>\n",
              "      <th>6384</th>\n",
              "      <th>6385</th>\n",
              "      <th>6386</th>\n",
              "      <th>6387</th>\n",
              "      <th>6388</th>\n",
              "      <th>6389</th>\n",
              "      <th>6390</th>\n",
              "      <th>6391</th>\n",
              "      <th>6392</th>\n",
              "      <th>6393</th>\n",
              "      <th>6394</th>\n",
              "      <th>6395</th>\n",
              "      <th>6396</th>\n",
              "      <th>6397</th>\n",
              "      <th>6398</th>\n",
              "      <th>6399</th>\n",
              "      <th>Label</th>\n",
              "    </tr>\n",
              "  </thead>\n",
              "  <tbody>\n",
              "    <tr>\n",
              "      <th>0</th>\n",
              "      <td>33.0</td>\n",
              "      <td>36.0</td>\n",
              "      <td>33.0</td>\n",
              "      <td>27.0</td>\n",
              "      <td>21.0</td>\n",
              "      <td>16.0</td>\n",
              "      <td>14.0</td>\n",
              "      <td>13.0</td>\n",
              "      <td>11.0</td>\n",
              "      <td>9.0</td>\n",
              "      <td>9.0</td>\n",
              "      <td>15.0</td>\n",
              "      <td>18.0</td>\n",
              "      <td>21.0</td>\n",
              "      <td>24.0</td>\n",
              "      <td>24.0</td>\n",
              "      <td>23.0</td>\n",
              "      <td>22.0</td>\n",
              "      <td>22.0</td>\n",
              "      <td>27.0</td>\n",
              "      <td>29.0</td>\n",
              "      <td>30.0</td>\n",
              "      <td>30.0</td>\n",
              "      <td>29.0</td>\n",
              "      <td>29.0</td>\n",
              "      <td>30.0</td>\n",
              "      <td>31.0</td>\n",
              "      <td>31.0</td>\n",
              "      <td>29.0</td>\n",
              "      <td>30.0</td>\n",
              "      <td>28.0</td>\n",
              "      <td>24.0</td>\n",
              "      <td>18.0</td>\n",
              "      <td>15.0</td>\n",
              "      <td>16.0</td>\n",
              "      <td>18.0</td>\n",
              "      <td>17.0</td>\n",
              "      <td>17.0</td>\n",
              "      <td>17.0</td>\n",
              "      <td>17.0</td>\n",
              "      <td>...</td>\n",
              "      <td>36.0</td>\n",
              "      <td>36.0</td>\n",
              "      <td>37.0</td>\n",
              "      <td>37.0</td>\n",
              "      <td>38.0</td>\n",
              "      <td>38.0</td>\n",
              "      <td>38.0</td>\n",
              "      <td>38.0</td>\n",
              "      <td>38.0</td>\n",
              "      <td>38.0</td>\n",
              "      <td>39.0</td>\n",
              "      <td>39.0</td>\n",
              "      <td>37.0</td>\n",
              "      <td>36.0</td>\n",
              "      <td>36.0</td>\n",
              "      <td>36.0</td>\n",
              "      <td>36.0</td>\n",
              "      <td>36.0</td>\n",
              "      <td>35.0</td>\n",
              "      <td>34.0</td>\n",
              "      <td>33.0</td>\n",
              "      <td>30.0</td>\n",
              "      <td>28.0</td>\n",
              "      <td>26.0</td>\n",
              "      <td>24.0</td>\n",
              "      <td>22.0</td>\n",
              "      <td>19.0</td>\n",
              "      <td>15.0</td>\n",
              "      <td>12.0</td>\n",
              "      <td>14.0</td>\n",
              "      <td>16.0</td>\n",
              "      <td>15.0</td>\n",
              "      <td>14.0</td>\n",
              "      <td>14.0</td>\n",
              "      <td>14.0</td>\n",
              "      <td>14.0</td>\n",
              "      <td>14.0</td>\n",
              "      <td>15.0</td>\n",
              "      <td>13.0</td>\n",
              "      <td>2.0</td>\n",
              "    </tr>\n",
              "    <tr>\n",
              "      <th>1</th>\n",
              "      <td>7.0</td>\n",
              "      <td>8.0</td>\n",
              "      <td>10.0</td>\n",
              "      <td>9.0</td>\n",
              "      <td>8.0</td>\n",
              "      <td>10.0</td>\n",
              "      <td>11.0</td>\n",
              "      <td>11.0</td>\n",
              "      <td>12.0</td>\n",
              "      <td>11.0</td>\n",
              "      <td>13.0</td>\n",
              "      <td>15.0</td>\n",
              "      <td>17.0</td>\n",
              "      <td>23.0</td>\n",
              "      <td>32.0</td>\n",
              "      <td>40.0</td>\n",
              "      <td>39.0</td>\n",
              "      <td>36.0</td>\n",
              "      <td>32.0</td>\n",
              "      <td>29.0</td>\n",
              "      <td>31.0</td>\n",
              "      <td>35.0</td>\n",
              "      <td>37.0</td>\n",
              "      <td>39.0</td>\n",
              "      <td>41.0</td>\n",
              "      <td>42.0</td>\n",
              "      <td>43.0</td>\n",
              "      <td>44.0</td>\n",
              "      <td>43.0</td>\n",
              "      <td>41.0</td>\n",
              "      <td>37.0</td>\n",
              "      <td>33.0</td>\n",
              "      <td>29.0</td>\n",
              "      <td>25.0</td>\n",
              "      <td>22.0</td>\n",
              "      <td>21.0</td>\n",
              "      <td>19.0</td>\n",
              "      <td>16.0</td>\n",
              "      <td>16.0</td>\n",
              "      <td>16.0</td>\n",
              "      <td>...</td>\n",
              "      <td>45.0</td>\n",
              "      <td>45.0</td>\n",
              "      <td>45.0</td>\n",
              "      <td>47.0</td>\n",
              "      <td>47.0</td>\n",
              "      <td>47.0</td>\n",
              "      <td>45.0</td>\n",
              "      <td>43.0</td>\n",
              "      <td>41.0</td>\n",
              "      <td>38.0</td>\n",
              "      <td>37.0</td>\n",
              "      <td>37.0</td>\n",
              "      <td>36.0</td>\n",
              "      <td>35.0</td>\n",
              "      <td>35.0</td>\n",
              "      <td>35.0</td>\n",
              "      <td>39.0</td>\n",
              "      <td>38.0</td>\n",
              "      <td>38.0</td>\n",
              "      <td>37.0</td>\n",
              "      <td>35.0</td>\n",
              "      <td>30.0</td>\n",
              "      <td>26.0</td>\n",
              "      <td>21.0</td>\n",
              "      <td>16.0</td>\n",
              "      <td>11.0</td>\n",
              "      <td>9.0</td>\n",
              "      <td>10.0</td>\n",
              "      <td>11.0</td>\n",
              "      <td>10.0</td>\n",
              "      <td>10.0</td>\n",
              "      <td>10.0</td>\n",
              "      <td>10.0</td>\n",
              "      <td>10.0</td>\n",
              "      <td>10.0</td>\n",
              "      <td>10.0</td>\n",
              "      <td>12.0</td>\n",
              "      <td>12.0</td>\n",
              "      <td>12.0</td>\n",
              "      <td>2.0</td>\n",
              "    </tr>\n",
              "    <tr>\n",
              "      <th>2</th>\n",
              "      <td>21.0</td>\n",
              "      <td>20.0</td>\n",
              "      <td>18.0</td>\n",
              "      <td>17.0</td>\n",
              "      <td>15.0</td>\n",
              "      <td>13.0</td>\n",
              "      <td>12.0</td>\n",
              "      <td>11.0</td>\n",
              "      <td>10.0</td>\n",
              "      <td>11.0</td>\n",
              "      <td>12.0</td>\n",
              "      <td>18.0</td>\n",
              "      <td>31.0</td>\n",
              "      <td>45.0</td>\n",
              "      <td>53.0</td>\n",
              "      <td>53.0</td>\n",
              "      <td>47.0</td>\n",
              "      <td>40.0</td>\n",
              "      <td>39.0</td>\n",
              "      <td>41.0</td>\n",
              "      <td>47.0</td>\n",
              "      <td>53.0</td>\n",
              "      <td>57.0</td>\n",
              "      <td>58.0</td>\n",
              "      <td>61.0</td>\n",
              "      <td>64.0</td>\n",
              "      <td>67.0</td>\n",
              "      <td>70.0</td>\n",
              "      <td>78.0</td>\n",
              "      <td>82.0</td>\n",
              "      <td>77.0</td>\n",
              "      <td>68.0</td>\n",
              "      <td>57.0</td>\n",
              "      <td>46.0</td>\n",
              "      <td>35.0</td>\n",
              "      <td>29.0</td>\n",
              "      <td>26.0</td>\n",
              "      <td>23.0</td>\n",
              "      <td>19.0</td>\n",
              "      <td>17.0</td>\n",
              "      <td>...</td>\n",
              "      <td>40.0</td>\n",
              "      <td>39.0</td>\n",
              "      <td>38.0</td>\n",
              "      <td>37.0</td>\n",
              "      <td>38.0</td>\n",
              "      <td>40.0</td>\n",
              "      <td>42.0</td>\n",
              "      <td>42.0</td>\n",
              "      <td>40.0</td>\n",
              "      <td>38.0</td>\n",
              "      <td>37.0</td>\n",
              "      <td>37.0</td>\n",
              "      <td>36.0</td>\n",
              "      <td>35.0</td>\n",
              "      <td>34.0</td>\n",
              "      <td>32.0</td>\n",
              "      <td>31.0</td>\n",
              "      <td>30.0</td>\n",
              "      <td>29.0</td>\n",
              "      <td>29.0</td>\n",
              "      <td>29.0</td>\n",
              "      <td>32.0</td>\n",
              "      <td>32.0</td>\n",
              "      <td>30.0</td>\n",
              "      <td>25.0</td>\n",
              "      <td>19.0</td>\n",
              "      <td>14.0</td>\n",
              "      <td>11.0</td>\n",
              "      <td>10.0</td>\n",
              "      <td>11.0</td>\n",
              "      <td>10.0</td>\n",
              "      <td>10.0</td>\n",
              "      <td>10.0</td>\n",
              "      <td>11.0</td>\n",
              "      <td>11.0</td>\n",
              "      <td>11.0</td>\n",
              "      <td>12.0</td>\n",
              "      <td>12.0</td>\n",
              "      <td>12.0</td>\n",
              "      <td>2.0</td>\n",
              "    </tr>\n",
              "    <tr>\n",
              "      <th>3</th>\n",
              "      <td>12.0</td>\n",
              "      <td>14.0</td>\n",
              "      <td>18.0</td>\n",
              "      <td>21.0</td>\n",
              "      <td>19.0</td>\n",
              "      <td>14.0</td>\n",
              "      <td>11.0</td>\n",
              "      <td>10.0</td>\n",
              "      <td>11.0</td>\n",
              "      <td>13.0</td>\n",
              "      <td>15.0</td>\n",
              "      <td>17.0</td>\n",
              "      <td>22.0</td>\n",
              "      <td>35.0</td>\n",
              "      <td>53.0</td>\n",
              "      <td>61.0</td>\n",
              "      <td>53.0</td>\n",
              "      <td>40.0</td>\n",
              "      <td>38.0</td>\n",
              "      <td>38.0</td>\n",
              "      <td>38.0</td>\n",
              "      <td>40.0</td>\n",
              "      <td>45.0</td>\n",
              "      <td>52.0</td>\n",
              "      <td>57.0</td>\n",
              "      <td>61.0</td>\n",
              "      <td>59.0</td>\n",
              "      <td>56.0</td>\n",
              "      <td>54.0</td>\n",
              "      <td>51.0</td>\n",
              "      <td>47.0</td>\n",
              "      <td>42.0</td>\n",
              "      <td>39.0</td>\n",
              "      <td>35.0</td>\n",
              "      <td>30.0</td>\n",
              "      <td>25.0</td>\n",
              "      <td>23.0</td>\n",
              "      <td>22.0</td>\n",
              "      <td>20.0</td>\n",
              "      <td>18.0</td>\n",
              "      <td>...</td>\n",
              "      <td>44.0</td>\n",
              "      <td>44.0</td>\n",
              "      <td>43.0</td>\n",
              "      <td>42.0</td>\n",
              "      <td>42.0</td>\n",
              "      <td>43.0</td>\n",
              "      <td>45.0</td>\n",
              "      <td>48.0</td>\n",
              "      <td>50.0</td>\n",
              "      <td>48.0</td>\n",
              "      <td>45.0</td>\n",
              "      <td>43.0</td>\n",
              "      <td>42.0</td>\n",
              "      <td>41.0</td>\n",
              "      <td>39.0</td>\n",
              "      <td>36.0</td>\n",
              "      <td>34.0</td>\n",
              "      <td>32.0</td>\n",
              "      <td>32.0</td>\n",
              "      <td>32.0</td>\n",
              "      <td>35.0</td>\n",
              "      <td>36.0</td>\n",
              "      <td>36.0</td>\n",
              "      <td>37.0</td>\n",
              "      <td>35.0</td>\n",
              "      <td>30.0</td>\n",
              "      <td>24.0</td>\n",
              "      <td>16.0</td>\n",
              "      <td>12.0</td>\n",
              "      <td>12.0</td>\n",
              "      <td>11.0</td>\n",
              "      <td>11.0</td>\n",
              "      <td>10.0</td>\n",
              "      <td>10.0</td>\n",
              "      <td>10.0</td>\n",
              "      <td>10.0</td>\n",
              "      <td>10.0</td>\n",
              "      <td>10.0</td>\n",
              "      <td>10.0</td>\n",
              "      <td>2.0</td>\n",
              "    </tr>\n",
              "    <tr>\n",
              "      <th>4</th>\n",
              "      <td>12.0</td>\n",
              "      <td>13.0</td>\n",
              "      <td>13.0</td>\n",
              "      <td>13.0</td>\n",
              "      <td>12.0</td>\n",
              "      <td>10.0</td>\n",
              "      <td>12.0</td>\n",
              "      <td>13.0</td>\n",
              "      <td>10.0</td>\n",
              "      <td>7.0</td>\n",
              "      <td>11.0</td>\n",
              "      <td>14.0</td>\n",
              "      <td>20.0</td>\n",
              "      <td>28.0</td>\n",
              "      <td>39.0</td>\n",
              "      <td>48.0</td>\n",
              "      <td>51.0</td>\n",
              "      <td>37.0</td>\n",
              "      <td>33.0</td>\n",
              "      <td>29.0</td>\n",
              "      <td>29.0</td>\n",
              "      <td>34.0</td>\n",
              "      <td>41.0</td>\n",
              "      <td>46.0</td>\n",
              "      <td>50.0</td>\n",
              "      <td>51.0</td>\n",
              "      <td>51.0</td>\n",
              "      <td>50.0</td>\n",
              "      <td>47.0</td>\n",
              "      <td>45.0</td>\n",
              "      <td>43.0</td>\n",
              "      <td>38.0</td>\n",
              "      <td>36.0</td>\n",
              "      <td>32.0</td>\n",
              "      <td>28.0</td>\n",
              "      <td>24.0</td>\n",
              "      <td>21.0</td>\n",
              "      <td>18.0</td>\n",
              "      <td>17.0</td>\n",
              "      <td>17.0</td>\n",
              "      <td>...</td>\n",
              "      <td>45.0</td>\n",
              "      <td>44.0</td>\n",
              "      <td>44.0</td>\n",
              "      <td>43.0</td>\n",
              "      <td>45.0</td>\n",
              "      <td>45.0</td>\n",
              "      <td>44.0</td>\n",
              "      <td>44.0</td>\n",
              "      <td>46.0</td>\n",
              "      <td>48.0</td>\n",
              "      <td>47.0</td>\n",
              "      <td>45.0</td>\n",
              "      <td>43.0</td>\n",
              "      <td>42.0</td>\n",
              "      <td>40.0</td>\n",
              "      <td>38.0</td>\n",
              "      <td>36.0</td>\n",
              "      <td>35.0</td>\n",
              "      <td>34.0</td>\n",
              "      <td>33.0</td>\n",
              "      <td>33.0</td>\n",
              "      <td>34.0</td>\n",
              "      <td>36.0</td>\n",
              "      <td>37.0</td>\n",
              "      <td>36.0</td>\n",
              "      <td>34.0</td>\n",
              "      <td>30.0</td>\n",
              "      <td>23.0</td>\n",
              "      <td>16.0</td>\n",
              "      <td>12.0</td>\n",
              "      <td>13.0</td>\n",
              "      <td>13.0</td>\n",
              "      <td>12.0</td>\n",
              "      <td>9.0</td>\n",
              "      <td>9.0</td>\n",
              "      <td>9.0</td>\n",
              "      <td>10.0</td>\n",
              "      <td>11.0</td>\n",
              "      <td>11.0</td>\n",
              "      <td>2.0</td>\n",
              "    </tr>\n",
              "  </tbody>\n",
              "</table>\n",
              "<p>5 rows × 6401 columns</p>\n",
              "</div>"
            ],
            "text/plain": [
              "      0     1     2     3     4     5  ...  6395  6396  6397  6398  6399  Label\n",
              "0  33.0  36.0  33.0  27.0  21.0  16.0  ...  14.0  14.0  14.0  15.0  13.0    2.0\n",
              "1   7.0   8.0  10.0   9.0   8.0  10.0  ...  10.0  10.0  12.0  12.0  12.0    2.0\n",
              "2  21.0  20.0  18.0  17.0  15.0  13.0  ...  11.0  11.0  12.0  12.0  12.0    2.0\n",
              "3  12.0  14.0  18.0  21.0  19.0  14.0  ...  10.0  10.0  10.0  10.0  10.0    2.0\n",
              "4  12.0  13.0  13.0  13.0  12.0  10.0  ...   9.0   9.0  10.0  11.0  11.0    2.0\n",
              "\n",
              "[5 rows x 6401 columns]"
            ]
          },
          "metadata": {
            "tags": []
          },
          "execution_count": 175
        }
      ]
    },
    {
      "cell_type": "code",
      "metadata": {
        "id": "mbvo-q5OdmZo",
        "colab_type": "code",
        "outputId": "beaed2c0-99e9-494f-e445-cb40e77714a3",
        "colab": {
          "base_uri": "https://localhost:8080/",
          "height": 139
        }
      },
      "source": [
        "df = gender_features.Label.value_counts()\n",
        "print('FEMALE FACES = ', df.get_value(1))\n",
        "print('MALE FACES = ', df.get_value(2))"
      ],
      "execution_count": 0,
      "outputs": [
        {
          "output_type": "stream",
          "text": [
            "FEMALE FACES =  1834\n",
            "MALE FACES =  1939\n"
          ],
          "name": "stdout"
        },
        {
          "output_type": "stream",
          "text": [
            "/usr/local/lib/python3.6/dist-packages/ipykernel_launcher.py:2: FutureWarning: get_value is deprecated and will be removed in a future release. Please use .at[] or .iat[] accessors instead\n",
            "  \n",
            "/usr/local/lib/python3.6/dist-packages/ipykernel_launcher.py:3: FutureWarning: get_value is deprecated and will be removed in a future release. Please use .at[] or .iat[] accessors instead\n",
            "  This is separate from the ipykernel package so we can avoid doing imports until\n"
          ],
          "name": "stderr"
        }
      ]
    },
    {
      "cell_type": "code",
      "metadata": {
        "id": "7XJDQMbpR4sZ",
        "colab_type": "code",
        "outputId": "f3b18194-d425-4e19-af0d-4ae853201120",
        "colab": {
          "base_uri": "https://localhost:8080/",
          "height": 119
        }
      },
      "source": [
        "RESIZE_SHAPE = (80,80)\n",
        "features = gender_features.as_matrix()[:, :RESIZE_SHAPE[0]*RESIZE_SHAPE[1]]\n",
        "labels = gender_features.as_matrix()[:,RESIZE_SHAPE[0]*RESIZE_SHAPE[1]:]\n",
        "\n",
        "print(\"Features Shape = {}\".format(features.shape))\n",
        "print(\"Labels Shape = {}\".format(labels.shape))"
      ],
      "execution_count": 0,
      "outputs": [
        {
          "output_type": "stream",
          "text": [
            "Features Shape = (3773, 6400)\n",
            "Labels Shape = (3773, 1)\n"
          ],
          "name": "stdout"
        },
        {
          "output_type": "stream",
          "text": [
            "/usr/local/lib/python3.6/dist-packages/ipykernel_launcher.py:2: FutureWarning: Method .as_matrix will be removed in a future version. Use .values instead.\n",
            "  \n",
            "/usr/local/lib/python3.6/dist-packages/ipykernel_launcher.py:3: FutureWarning: Method .as_matrix will be removed in a future version. Use .values instead.\n",
            "  This is separate from the ipykernel package so we can avoid doing imports until\n"
          ],
          "name": "stderr"
        }
      ]
    },
    {
      "cell_type": "code",
      "metadata": {
        "id": "Aen6z6yVPwhB",
        "colab_type": "code",
        "outputId": "503a430d-55a6-4f07-9b85-1122187b77ac",
        "colab": {
          "base_uri": "https://localhost:8080/",
          "height": 989
        }
      },
      "source": [
        "features_counts = [80, 140, 200, 260, 320, 380, 440, 1000]\n",
        "test_scores = []\n",
        "train_scores = []\n",
        "for f_count in features_counts:\n",
        "    print(\"Reducing features to {} ...\".format(f_count))\n",
        "    pca = PCA(n_components = f_count)\n",
        "\n",
        "    pca.fit(features)\n",
        "    reduced_features = pca.transform(features)\n",
        "    \n",
        "    features_train, features_test, labels_train, labels_test = train_test_split(reduced_features, labels, train_size=0.7, test_size=0.3, random_state=42)\n",
        "    \n",
        "    logistic_regression = LogisticRegression(C=0.001)\n",
        "    logistic_regression.fit(features_train, labels_train)\n",
        "    \n",
        "    test_score = logistic_regression.score(features_test, labels_test)\n",
        "    train_score = logistic_regression.score(features_train, labels_train)\n",
        "    \n",
        "    print(\"\\t\\t\\t train_score: {}\".format(train_score))\n",
        "    print(\"\\t\\t\\t test_score: {}\".format(test_score))\n",
        "    \n",
        "    test_scores.append(test_score)\n",
        "    train_scores.append(train_score)"
      ],
      "execution_count": 0,
      "outputs": [
        {
          "output_type": "stream",
          "text": [
            "Reducing features to 80 ...\n"
          ],
          "name": "stdout"
        },
        {
          "output_type": "stream",
          "text": [
            "/usr/local/lib/python3.6/dist-packages/sklearn/linear_model/logistic.py:432: FutureWarning: Default solver will be changed to 'lbfgs' in 0.22. Specify a solver to silence this warning.\n",
            "  FutureWarning)\n",
            "/usr/local/lib/python3.6/dist-packages/sklearn/utils/validation.py:724: DataConversionWarning: A column-vector y was passed when a 1d array was expected. Please change the shape of y to (n_samples, ), for example using ravel().\n",
            "  y = column_or_1d(y, warn=True)\n"
          ],
          "name": "stderr"
        },
        {
          "output_type": "stream",
          "text": [
            "\t\t\t train_score: 0.9367663763725862\n",
            "\t\t\t test_score: 0.926678445229682\n",
            "Reducing features to 140 ...\n"
          ],
          "name": "stdout"
        },
        {
          "output_type": "stream",
          "text": [
            "/usr/local/lib/python3.6/dist-packages/sklearn/linear_model/logistic.py:432: FutureWarning: Default solver will be changed to 'lbfgs' in 0.22. Specify a solver to silence this warning.\n",
            "  FutureWarning)\n",
            "/usr/local/lib/python3.6/dist-packages/sklearn/utils/validation.py:724: DataConversionWarning: A column-vector y was passed when a 1d array was expected. Please change the shape of y to (n_samples, ), for example using ravel().\n",
            "  y = column_or_1d(y, warn=True)\n"
          ],
          "name": "stderr"
        },
        {
          "output_type": "stream",
          "text": [
            "\t\t\t train_score: 0.9522907989397955\n",
            "\t\t\t test_score: 0.9469964664310954\n",
            "Reducing features to 200 ...\n"
          ],
          "name": "stdout"
        },
        {
          "output_type": "stream",
          "text": [
            "/usr/local/lib/python3.6/dist-packages/sklearn/linear_model/logistic.py:432: FutureWarning: Default solver will be changed to 'lbfgs' in 0.22. Specify a solver to silence this warning.\n",
            "  FutureWarning)\n",
            "/usr/local/lib/python3.6/dist-packages/sklearn/utils/validation.py:724: DataConversionWarning: A column-vector y was passed when a 1d array was expected. Please change the shape of y to (n_samples, ), for example using ravel().\n",
            "  y = column_or_1d(y, warn=True)\n"
          ],
          "name": "stderr"
        },
        {
          "output_type": "stream",
          "text": [
            "\t\t\t train_score: 0.9772813328284741\n",
            "\t\t\t test_score: 0.9540636042402827\n",
            "Reducing features to 260 ...\n"
          ],
          "name": "stdout"
        },
        {
          "output_type": "stream",
          "text": [
            "/usr/local/lib/python3.6/dist-packages/sklearn/linear_model/logistic.py:432: FutureWarning: Default solver will be changed to 'lbfgs' in 0.22. Specify a solver to silence this warning.\n",
            "  FutureWarning)\n",
            "/usr/local/lib/python3.6/dist-packages/sklearn/utils/validation.py:724: DataConversionWarning: A column-vector y was passed when a 1d array was expected. Please change the shape of y to (n_samples, ), for example using ravel().\n",
            "  y = column_or_1d(y, warn=True)\n"
          ],
          "name": "stderr"
        },
        {
          "output_type": "stream",
          "text": [
            "\t\t\t train_score: 0.9981067777357062\n",
            "\t\t\t test_score: 0.950530035335689\n",
            "Reducing features to 320 ...\n"
          ],
          "name": "stdout"
        },
        {
          "output_type": "stream",
          "text": [
            "/usr/local/lib/python3.6/dist-packages/sklearn/linear_model/logistic.py:432: FutureWarning: Default solver will be changed to 'lbfgs' in 0.22. Specify a solver to silence this warning.\n",
            "  FutureWarning)\n",
            "/usr/local/lib/python3.6/dist-packages/sklearn/utils/validation.py:724: DataConversionWarning: A column-vector y was passed when a 1d array was expected. Please change the shape of y to (n_samples, ), for example using ravel().\n",
            "  y = column_or_1d(y, warn=True)\n"
          ],
          "name": "stderr"
        },
        {
          "output_type": "stream",
          "text": [
            "\t\t\t train_score: 1.0\n",
            "\t\t\t test_score: 0.9567137809187279\n",
            "Reducing features to 380 ...\n"
          ],
          "name": "stdout"
        },
        {
          "output_type": "stream",
          "text": [
            "/usr/local/lib/python3.6/dist-packages/sklearn/linear_model/logistic.py:432: FutureWarning: Default solver will be changed to 'lbfgs' in 0.22. Specify a solver to silence this warning.\n",
            "  FutureWarning)\n",
            "/usr/local/lib/python3.6/dist-packages/sklearn/utils/validation.py:724: DataConversionWarning: A column-vector y was passed when a 1d array was expected. Please change the shape of y to (n_samples, ), for example using ravel().\n",
            "  y = column_or_1d(y, warn=True)\n"
          ],
          "name": "stderr"
        },
        {
          "output_type": "stream",
          "text": [
            "\t\t\t train_score: 1.0\n",
            "\t\t\t test_score: 0.9549469964664311\n",
            "Reducing features to 440 ...\n"
          ],
          "name": "stdout"
        },
        {
          "output_type": "stream",
          "text": [
            "/usr/local/lib/python3.6/dist-packages/sklearn/linear_model/logistic.py:432: FutureWarning: Default solver will be changed to 'lbfgs' in 0.22. Specify a solver to silence this warning.\n",
            "  FutureWarning)\n",
            "/usr/local/lib/python3.6/dist-packages/sklearn/utils/validation.py:724: DataConversionWarning: A column-vector y was passed when a 1d array was expected. Please change the shape of y to (n_samples, ), for example using ravel().\n",
            "  y = column_or_1d(y, warn=True)\n"
          ],
          "name": "stderr"
        },
        {
          "output_type": "stream",
          "text": [
            "\t\t\t train_score: 1.0\n",
            "\t\t\t test_score: 0.9628975265017667\n",
            "Reducing features to 1000 ...\n"
          ],
          "name": "stdout"
        },
        {
          "output_type": "stream",
          "text": [
            "/usr/local/lib/python3.6/dist-packages/sklearn/linear_model/logistic.py:432: FutureWarning: Default solver will be changed to 'lbfgs' in 0.22. Specify a solver to silence this warning.\n",
            "  FutureWarning)\n",
            "/usr/local/lib/python3.6/dist-packages/sklearn/utils/validation.py:724: DataConversionWarning: A column-vector y was passed when a 1d array was expected. Please change the shape of y to (n_samples, ), for example using ravel().\n",
            "  y = column_or_1d(y, warn=True)\n"
          ],
          "name": "stderr"
        },
        {
          "output_type": "stream",
          "text": [
            "\t\t\t train_score: 1.0\n",
            "\t\t\t test_score: 0.9690812720848057\n"
          ],
          "name": "stdout"
        }
      ]
    },
    {
      "cell_type": "code",
      "metadata": {
        "id": "S-N5fR7abcO3",
        "colab_type": "code",
        "outputId": "5676bf8a-818f-4c9c-f35c-20edeef24509",
        "colab": {
          "base_uri": "https://localhost:8080/",
          "height": 283
        }
      },
      "source": [
        "plt.plot(features_counts, test_scores)\n",
        "plt.plot(features_counts, train_scores)\n",
        "plt.legend([\"test_score\", \"train score\"])\n",
        "plt.xlabel(\"Number of components\")\n",
        "plt.ylabel(\"Accuracy score\")\n",
        "plt.grid()\n",
        "plt.show()"
      ],
      "execution_count": 0,
      "outputs": [
        {
          "output_type": "display_data",
          "data": {
            "image/png": "[encoded data removed]",
            "text/plain": [
              "<Figure size 432x288 with 1 Axes>"
            ]
          },
          "metadata": {
            "tags": []
          }
        }
      ]
    },
    {
      "cell_type": "code",
      "metadata": {
        "id": "Eb19mv77ctJN",
        "colab_type": "code",
        "outputId": "15f7df53-0cb8-479b-8892-42e052054d5b",
        "colab": {
          "base_uri": "https://localhost:8080/",
          "height": 364
        }
      },
      "source": [
        "eigenface_scaler = StandardScaler()\n",
        "eigenface_features = eigenface_scaler.fit_transform(features)\n",
        "\n",
        "fig = plt.figure(figsize=(16, 6))\n",
        "pca_eigenface = PCA(n_components = 300, whiten = True)\n",
        "pca_eigenface.fit(eigenface_features)\n",
        "\n",
        "for i in range(32):\n",
        "    ax = fig.add_subplot(4, 8, i + 1, xticks=[], yticks=[])\n",
        "    plt.imshow(pca_eigenface.components_[i].reshape((80,80)), cmap=plt.cm.bone)"
      ],
      "execution_count": 0,
      "outputs": [
        {
          "output_type": "display_data",
          "data": {
            "image/png": "[encoded data removed]",
            "text/plain": [
              "<Figure size 1152x432 with 32 Axes>"
            ]
          },
          "metadata": {
            "tags": []
          }
        }
      ]
    },
    {
      "cell_type": "markdown",
      "metadata": {
        "id": "hpw5e20R6YKM",
        "colab_type": "text"
      },
      "source": [
        "Defining Functions For \n",
        "\n",
        "1.   Printing Grid Search Table\n",
        "2.   Plotting Learning Curve\n",
        "\n"
      ]
    },
    {
      "cell_type": "code",
      "metadata": {
        "id": "VrO9xesoXaWb",
        "colab_type": "code",
        "colab": {}
      },
      "source": [
        "def print_grid_search_results(grid_search_pipeline, splits):\n",
        "  \n",
        "    results = pd.DataFrame(grid_search_pipeline.cv_results_)\n",
        "    results = results.drop(['mean_fit_time', 'mean_score_time', 'std_fit_time', 'std_score_time', 'params'], axis=1)\n",
        "\n",
        "    columns = columns={\"param_pca__n_components\": \"PCA\", \"param_classifier__C\": \"C\", \n",
        "                       \"mean_test_score\": \"mean_test\",\"mean_train_score\": \"mean_train\", \"rank_test_score\": \n",
        "                       \"rank_test\", \"param_clf__n_estimators\": \"n_estimators\"}\n",
        "    \n",
        "    for i in range(0, splits):\n",
        "        columns[\"split\" + str(i) + \"_train_score\"]=\"split\" + str(i) + \"_train\"\n",
        "        columns[\"split\" + str(i) + \"_test_score\"]=\"split\" + str(i) + \"_test\"\n",
        "    results = results.rename(columns=columns)\n",
        "    results.sort_values(by='rank_test', inplace=True)\n",
        "    return results.head(len(grid_search_pipeline.cv_results_['params']))"
      ],
      "execution_count": 0,
      "outputs": []
    },
    {
      "cell_type": "code",
      "metadata": {
        "id": "w3us_4YxZx7T",
        "colab_type": "code",
        "colab": {}
      },
      "source": [
        "def plot_learning_curve(estimator, title, X, y, ylim=None, cv=None, n_jobs=1, train_sizes=np.linspace(.1, 1.0, 5)):\n",
        " \n",
        "    plt.figure()\n",
        "    plt.title(title)\n",
        "    plt.xlabel(\"Training examples\")\n",
        "    plt.ylabel(\"Score\")\n",
        "    train_sizes, train_scores, test_scores = learning_curve(estimator, X, y, cv=cv, n_jobs=n_jobs, train_sizes=train_sizes)\n",
        "    \n",
        "    train_scores_mean = np.mean(train_scores, axis=1)\n",
        "    train_scores_std = np.std(train_scores, axis=1)\n",
        "    test_scores_mean = np.mean(test_scores, axis=1)\n",
        "    test_scores_std = np.std(test_scores, axis=1)\n",
        "    plt.grid()\n",
        "\n",
        "    plt.fill_between(train_sizes, train_scores_mean - train_scores_std,train_scores_mean + train_scores_std, alpha=0.1,color=\"r\")\n",
        "    plt.fill_between(train_sizes, test_scores_mean - test_scores_std,\n",
        "                     test_scores_mean + test_scores_std, alpha=0.1, color=\"g\")\n",
        "    plt.plot(train_sizes, train_scores_mean, 'o-', color=\"r\",label=\"Training score\")\n",
        "    plt.plot(train_sizes, test_scores_mean, 'o-', color=\"g\",\n",
        "             label=\"Cross-validation score\")\n",
        "\n",
        "    plt.legend(loc=\"best\")\n",
        "    \n",
        "    return plt"
      ],
      "execution_count": 0,
      "outputs": []
    },
    {
      "cell_type": "markdown",
      "metadata": {
        "id": "eWfYodXa5_ZE",
        "colab_type": "text"
      },
      "source": [
        "**LOGISTIC REGRESSION**"
      ]
    },
    {
      "cell_type": "code",
      "metadata": {
        "id": "NgoPFWEKSTOF",
        "colab_type": "code",
        "outputId": "5b424547-57c0-40ed-9c12-3189f9b3ffa0",
        "colab": {
          "base_uri": "https://localhost:8080/",
          "height": 411
        }
      },
      "source": [
        "logistic_regression = LogisticRegression()\n",
        "logistic_regression_pipe = Pipeline(steps=[('scaler_before', StandardScaler()), \n",
        "                          ('pca', PCA(n_components = 300)),\n",
        "                          ('scaler_after', StandardScaler()),\n",
        "                          ('classifier', logistic_regression)])\n",
        "\n",
        "features_train, features_test, labels_train, labels_test = train_test_split(features, labels, train_size=0.7, test_size=0.3, random_state=42)\n",
        "logistic_regression_pipe.fit(features_train, labels_train)"
      ],
      "execution_count": 0,
      "outputs": [
        {
          "output_type": "stream",
          "text": [
            "/usr/local/lib/python3.6/dist-packages/sklearn/linear_model/logistic.py:432: FutureWarning: Default solver will be changed to 'lbfgs' in 0.22. Specify a solver to silence this warning.\n",
            "  FutureWarning)\n",
            "/usr/local/lib/python3.6/dist-packages/sklearn/utils/validation.py:724: DataConversionWarning: A column-vector y was passed when a 1d array was expected. Please change the shape of y to (n_samples, ), for example using ravel().\n",
            "  y = column_or_1d(y, warn=True)\n"
          ],
          "name": "stderr"
        },
        {
          "output_type": "execute_result",
          "data": {
            "text/plain": [
              "Pipeline(memory=None,\n",
              "         steps=[('scaler_before',\n",
              "                 StandardScaler(copy=True, with_mean=True, with_std=True)),\n",
              "                ('pca',\n",
              "                 PCA(copy=True, iterated_power='auto', n_components=300,\n",
              "                     random_state=None, svd_solver='auto', tol=0.0,\n",
              "                     whiten=False)),\n",
              "                ('scaler_after',\n",
              "                 StandardScaler(copy=True, with_mean=True, with_std=True)),\n",
              "                ('classifier',\n",
              "                 LogisticRegression(C=1.0, class_weight=None, dual=False,\n",
              "                                    fit_intercept=True, intercept_scaling=1,\n",
              "                                    l1_ratio=None, max_iter=100,\n",
              "                                    multi_class='warn', n_jobs=None,\n",
              "                                    penalty='l2', random_state=None,\n",
              "                                    solver='warn', tol=0.0001, verbose=0,\n",
              "                                    warm_start=False))],\n",
              "         verbose=False)"
            ]
          },
          "metadata": {
            "tags": []
          },
          "execution_count": 106
        }
      ]
    },
    {
      "cell_type": "code",
      "metadata": {
        "id": "x_BhKI35TSmP",
        "colab_type": "code",
        "outputId": "6a2a9c9c-7b5b-4fc7-bc82-d637ac94cbc3",
        "colab": {
          "base_uri": "https://localhost:8080/",
          "height": 68
        }
      },
      "source": [
        "print(\"Basic logistic regression test accuracy score: {}\".format(logistic_regression_pipe.score(features_test, labels_test)))\n",
        "\n",
        "print(\"Basic logistic regression train accuracy score: {}\".format(logistic_regression_pipe.score(features_train, labels_train)))\n",
        "\n",
        "print(\"Basic logistic regression F1 score: {}\".format(f1_score(labels_test, logistic_regression_pipe.predict(features_test))))"
      ],
      "execution_count": 0,
      "outputs": [
        {
          "output_type": "stream",
          "text": [
            "Basic logistic regression test accuracy score: 0.9575971731448764\n",
            "Basic logistic regression train accuracy score: 0.9958349110185536\n",
            "Basic logistic regression F1 score: 0.9553072625698324\n"
          ],
          "name": "stdout"
        }
      ]
    },
    {
      "cell_type": "code",
      "metadata": {
        "id": "qhsWpH26Tf6c",
        "colab_type": "code",
        "outputId": "2f04e559-652d-44e8-a5a8-94a096aa80ac",
        "colab": {
          "base_uri": "https://localhost:8080/",
          "height": 649
        }
      },
      "source": [
        "params = dict(classifier__C=[0.0001, 0.001, 0.01, 1],pca__n_components=[250, 300])\n",
        "\n",
        "kfold = StratifiedKFold(n_splits=5)\n",
        "\n",
        "grid_search_logistic_regression = GridSearchCV(logistic_regression_pipe, param_grid=params, cv=kfold, return_train_score=True, n_jobs = 6)\n",
        "\n",
        "grid_search_logistic_regression.fit(features_train, labels_train)"
      ],
      "execution_count": 0,
      "outputs": [
        {
          "output_type": "stream",
          "text": [
            "/usr/local/lib/python3.6/dist-packages/joblib/externals/loky/process_executor.py:706: UserWarning: A worker stopped while some jobs were given to the executor. This can be caused by a too short worker timeout or by a memory leak.\n",
            "  \"timeout or by a memory leak.\", UserWarning\n",
            "/usr/local/lib/python3.6/dist-packages/sklearn/linear_model/logistic.py:432: FutureWarning: Default solver will be changed to 'lbfgs' in 0.22. Specify a solver to silence this warning.\n",
            "  FutureWarning)\n",
            "/usr/local/lib/python3.6/dist-packages/sklearn/utils/validation.py:724: DataConversionWarning: A column-vector y was passed when a 1d array was expected. Please change the shape of y to (n_samples, ), for example using ravel().\n",
            "  y = column_or_1d(y, warn=True)\n"
          ],
          "name": "stderr"
        },
        {
          "output_type": "execute_result",
          "data": {
            "text/plain": [
              "GridSearchCV(cv=StratifiedKFold(n_splits=5, random_state=None, shuffle=False),\n",
              "             error_score='raise-deprecating',\n",
              "             estimator=Pipeline(memory=None,\n",
              "                                steps=[('scaler_before',\n",
              "                                        StandardScaler(copy=True,\n",
              "                                                       with_mean=True,\n",
              "                                                       with_std=True)),\n",
              "                                       ('pca',\n",
              "                                        PCA(copy=True, iterated_power='auto',\n",
              "                                            n_components=300, random_state=None,\n",
              "                                            svd_solver='auto', tol=0.0,\n",
              "                                            whiten=False)),\n",
              "                                       ('scaler_aft...\n",
              "                                                           intercept_scaling=1,\n",
              "                                                           l1_ratio=None,\n",
              "                                                           max_iter=100,\n",
              "                                                           multi_class='warn',\n",
              "                                                           n_jobs=None,\n",
              "                                                           penalty='l2',\n",
              "                                                           random_state=None,\n",
              "                                                           solver='warn',\n",
              "                                                           tol=0.0001,\n",
              "                                                           verbose=0,\n",
              "                                                           warm_start=False))],\n",
              "                                verbose=False),\n",
              "             iid='warn', n_jobs=6,\n",
              "             param_grid={'classifier__C': [0.0001, 0.001, 0.01, 1],\n",
              "                         'pca__n_components': [250, 300]},\n",
              "             pre_dispatch='2*n_jobs', refit=True, return_train_score=True,\n",
              "             scoring=None, verbose=0)"
            ]
          },
          "metadata": {
            "tags": []
          },
          "execution_count": 109
        }
      ]
    },
    {
      "cell_type": "code",
      "metadata": {
        "id": "qBgvuTJUWa1j",
        "colab_type": "code",
        "outputId": "a82ca627-c6e2-435a-aaa3-7550a0304089",
        "colab": {
          "base_uri": "https://localhost:8080/",
          "height": 34
        }
      },
      "source": [
        "print(\"Logistic Regression Grid Search best parameters: {}\".format(grid_search_logistic_regression.best_params_))"
      ],
      "execution_count": 0,
      "outputs": [
        {
          "output_type": "stream",
          "text": [
            "Logistic Regression Grid Search best parameters: {'classifier__C': 1, 'pca__n_components': 300}\n"
          ],
          "name": "stdout"
        }
      ]
    },
    {
      "cell_type": "code",
      "metadata": {
        "id": "U7DK0vq5XN47",
        "colab_type": "code",
        "outputId": "968f33cb-a713-4bb6-9003-87377f227647",
        "colab": {
          "base_uri": "https://localhost:8080/",
          "height": 34
        }
      },
      "source": [
        "print(\"Logistic Regression Grid Search best score: {}\".format(grid_search_logistic_regression.best_score_))"
      ],
      "execution_count": 0,
      "outputs": [
        {
          "output_type": "stream",
          "text": [
            "Logistic Regression Grid Search best score: 0.9519121544869368\n"
          ],
          "name": "stdout"
        }
      ]
    },
    {
      "cell_type": "code",
      "metadata": {
        "id": "FrEMegP7XWhn",
        "colab_type": "code",
        "outputId": "d1ccbbe9-d048-4515-eec7-af766679dc7e",
        "colab": {
          "base_uri": "https://localhost:8080/",
          "height": 317
        }
      },
      "source": [
        "print_grid_search_results(grid_search_logistic_regression, splits=5)"
      ],
      "execution_count": 0,
      "outputs": [
        {
          "output_type": "execute_result",
          "data": {
            "text/html": [
              "<div>\n",
              "<style scoped>\n",
              "    .dataframe tbody tr th:only-of-type {\n",
              "        vertical-align: middle;\n",
              "    }\n",
              "\n",
              "    .dataframe tbody tr th {\n",
              "        vertical-align: top;\n",
              "    }\n",
              "\n",
              "    .dataframe thead th {\n",
              "        text-align: right;\n",
              "    }\n",
              "</style>\n",
              "<table border=\"1\" class=\"dataframe\">\n",
              "  <thead>\n",
              "    <tr style=\"text-align: right;\">\n",
              "      <th></th>\n",
              "      <th>C</th>\n",
              "      <th>PCA</th>\n",
              "      <th>split0_test</th>\n",
              "      <th>split1_test</th>\n",
              "      <th>split2_test</th>\n",
              "      <th>split3_test</th>\n",
              "      <th>split4_test</th>\n",
              "      <th>mean_test</th>\n",
              "      <th>std_test_score</th>\n",
              "      <th>rank_test</th>\n",
              "      <th>split0_train</th>\n",
              "      <th>split1_train</th>\n",
              "      <th>split2_train</th>\n",
              "      <th>split3_train</th>\n",
              "      <th>split4_train</th>\n",
              "      <th>mean_train</th>\n",
              "      <th>std_train_score</th>\n",
              "    </tr>\n",
              "  </thead>\n",
              "  <tbody>\n",
              "    <tr>\n",
              "      <th>7</th>\n",
              "      <td>1</td>\n",
              "      <td>300</td>\n",
              "      <td>0.948960</td>\n",
              "      <td>0.965974</td>\n",
              "      <td>0.956439</td>\n",
              "      <td>0.950758</td>\n",
              "      <td>0.937381</td>\n",
              "      <td>0.951912</td>\n",
              "      <td>0.009373</td>\n",
              "      <td>1</td>\n",
              "      <td>0.996212</td>\n",
              "      <td>0.997159</td>\n",
              "      <td>0.995267</td>\n",
              "      <td>0.998580</td>\n",
              "      <td>0.997635</td>\n",
              "      <td>0.996971</td>\n",
              "      <td>0.001144</td>\n",
              "    </tr>\n",
              "    <tr>\n",
              "      <th>6</th>\n",
              "      <td>1</td>\n",
              "      <td>250</td>\n",
              "      <td>0.937618</td>\n",
              "      <td>0.950851</td>\n",
              "      <td>0.960227</td>\n",
              "      <td>0.941288</td>\n",
              "      <td>0.920304</td>\n",
              "      <td>0.942067</td>\n",
              "      <td>0.013416</td>\n",
              "      <td>2</td>\n",
              "      <td>0.989583</td>\n",
              "      <td>0.986269</td>\n",
              "      <td>0.991481</td>\n",
              "      <td>0.991955</td>\n",
              "      <td>0.991012</td>\n",
              "      <td>0.990060</td>\n",
              "      <td>0.002055</td>\n",
              "    </tr>\n",
              "    <tr>\n",
              "      <th>5</th>\n",
              "      <td>0.01</td>\n",
              "      <td>300</td>\n",
              "      <td>0.943289</td>\n",
              "      <td>0.945180</td>\n",
              "      <td>0.943182</td>\n",
              "      <td>0.941288</td>\n",
              "      <td>0.929791</td>\n",
              "      <td>0.940553</td>\n",
              "      <td>0.005512</td>\n",
              "      <td>3</td>\n",
              "      <td>0.967330</td>\n",
              "      <td>0.972064</td>\n",
              "      <td>0.969711</td>\n",
              "      <td>0.975864</td>\n",
              "      <td>0.972564</td>\n",
              "      <td>0.971507</td>\n",
              "      <td>0.002866</td>\n",
              "    </tr>\n",
              "    <tr>\n",
              "      <th>4</th>\n",
              "      <td>0.01</td>\n",
              "      <td>250</td>\n",
              "      <td>0.941399</td>\n",
              "      <td>0.948960</td>\n",
              "      <td>0.943182</td>\n",
              "      <td>0.946970</td>\n",
              "      <td>0.920304</td>\n",
              "      <td>0.940174</td>\n",
              "      <td>0.010276</td>\n",
              "      <td>4</td>\n",
              "      <td>0.961648</td>\n",
              "      <td>0.965909</td>\n",
              "      <td>0.959773</td>\n",
              "      <td>0.962612</td>\n",
              "      <td>0.965941</td>\n",
              "      <td>0.963177</td>\n",
              "      <td>0.002423</td>\n",
              "    </tr>\n",
              "    <tr>\n",
              "      <th>1</th>\n",
              "      <td>0.0001</td>\n",
              "      <td>300</td>\n",
              "      <td>0.937618</td>\n",
              "      <td>0.945180</td>\n",
              "      <td>0.945076</td>\n",
              "      <td>0.945076</td>\n",
              "      <td>0.920304</td>\n",
              "      <td>0.938660</td>\n",
              "      <td>0.009614</td>\n",
              "      <td>5</td>\n",
              "      <td>0.962121</td>\n",
              "      <td>0.964015</td>\n",
              "      <td>0.965452</td>\n",
              "      <td>0.963559</td>\n",
              "      <td>0.966887</td>\n",
              "      <td>0.964407</td>\n",
              "      <td>0.001634</td>\n",
              "    </tr>\n",
              "    <tr>\n",
              "      <th>3</th>\n",
              "      <td>0.001</td>\n",
              "      <td>300</td>\n",
              "      <td>0.935728</td>\n",
              "      <td>0.945180</td>\n",
              "      <td>0.941288</td>\n",
              "      <td>0.946970</td>\n",
              "      <td>0.922201</td>\n",
              "      <td>0.938281</td>\n",
              "      <td>0.008907</td>\n",
              "      <td>6</td>\n",
              "      <td>0.964015</td>\n",
              "      <td>0.964962</td>\n",
              "      <td>0.966398</td>\n",
              "      <td>0.966872</td>\n",
              "      <td>0.964049</td>\n",
              "      <td>0.965259</td>\n",
              "      <td>0.001183</td>\n",
              "    </tr>\n",
              "    <tr>\n",
              "      <th>0</th>\n",
              "      <td>0.0001</td>\n",
              "      <td>250</td>\n",
              "      <td>0.939509</td>\n",
              "      <td>0.945180</td>\n",
              "      <td>0.945076</td>\n",
              "      <td>0.937500</td>\n",
              "      <td>0.922201</td>\n",
              "      <td>0.937902</td>\n",
              "      <td>0.008405</td>\n",
              "      <td>7</td>\n",
              "      <td>0.954072</td>\n",
              "      <td>0.961648</td>\n",
              "      <td>0.955987</td>\n",
              "      <td>0.955987</td>\n",
              "      <td>0.959319</td>\n",
              "      <td>0.957402</td>\n",
              "      <td>0.002713</td>\n",
              "    </tr>\n",
              "    <tr>\n",
              "      <th>2</th>\n",
              "      <td>0.001</td>\n",
              "      <td>250</td>\n",
              "      <td>0.937618</td>\n",
              "      <td>0.947070</td>\n",
              "      <td>0.941288</td>\n",
              "      <td>0.941288</td>\n",
              "      <td>0.922201</td>\n",
              "      <td>0.937902</td>\n",
              "      <td>0.008404</td>\n",
              "      <td>7</td>\n",
              "      <td>0.954545</td>\n",
              "      <td>0.964015</td>\n",
              "      <td>0.954567</td>\n",
              "      <td>0.955987</td>\n",
              "      <td>0.958373</td>\n",
              "      <td>0.957497</td>\n",
              "      <td>0.003545</td>\n",
              "    </tr>\n",
              "  </tbody>\n",
              "</table>\n",
              "</div>"
            ],
            "text/plain": [
              "        C  PCA  split0_test  ...  split4_train  mean_train  std_train_score\n",
              "7       1  300     0.948960  ...      0.997635    0.996971         0.001144\n",
              "6       1  250     0.937618  ...      0.991012    0.990060         0.002055\n",
              "5    0.01  300     0.943289  ...      0.972564    0.971507         0.002866\n",
              "4    0.01  250     0.941399  ...      0.965941    0.963177         0.002423\n",
              "1  0.0001  300     0.937618  ...      0.966887    0.964407         0.001634\n",
              "3   0.001  300     0.935728  ...      0.964049    0.965259         0.001183\n",
              "0  0.0001  250     0.939509  ...      0.959319    0.957402         0.002713\n",
              "2   0.001  250     0.937618  ...      0.958373    0.957497         0.003545\n",
              "\n",
              "[8 rows x 17 columns]"
            ]
          },
          "metadata": {
            "tags": []
          },
          "execution_count": 115
        }
      ]
    },
    {
      "cell_type": "code",
      "metadata": {
        "id": "8o0wBny3ZlMy",
        "colab_type": "code",
        "outputId": "734cff96-102e-4ba4-ed8c-a72196d58a75",
        "colab": {
          "base_uri": "https://localhost:8080/",
          "height": 295
        }
      },
      "source": [
        "title = \"Learning Curves (Logistic Regression)\"\n",
        "cv = ShuffleSplit(n_splits = 10, test_size = 0.7, random_state = 42)\n",
        "scaled_features = StandardScaler().fit_transform(features)\n",
        "pca_features = PCA(n_components = 300).fit_transform(scaled_features)\n",
        "linear_regression_estimator = LogisticRegression(C = 1)\n",
        "\n",
        "plot_learning_curve(linear_regression_estimator, title, pca_features, labels, ylim=(0.4, 2.), cv=cv, n_jobs=4)\n",
        "plt.show()"
      ],
      "execution_count": 0,
      "outputs": [
        {
          "output_type": "display_data",
          "data": {
            "image/png": "[encoded data removed]",
            "text/plain": [
              "<Figure size 432x288 with 1 Axes>"
            ]
          },
          "metadata": {
            "tags": []
          }
        }
      ]
    },
    {
      "cell_type": "markdown",
      "metadata": {
        "id": "QZF_HVwi2-HL",
        "colab_type": "text"
      },
      "source": [
        "**LINEAR SVM**"
      ]
    },
    {
      "cell_type": "code",
      "metadata": {
        "id": "2Uo6hb4v3Bbq",
        "colab_type": "code",
        "outputId": "93195ba1-68ee-4011-8ffe-8415049d223d",
        "colab": {
          "base_uri": "https://localhost:8080/",
          "height": 377
        }
      },
      "source": [
        "linear_svm = LinearSVC()\n",
        "linear_svm_pipeline = Pipeline(steps=[('scl', StandardScaler()), \n",
        "                               ('pca', PCA(n_components=200, random_state=42)),\n",
        "                               ('scl_2', StandardScaler()),\n",
        "                               ('clf', linear_svm)])\n",
        "\n",
        "features_train, features_test, labels_train, labels_test = train_test_split(features, labels, train_size=0.7, test_size=0.3, random_state = 42)\n",
        "\n",
        "\n",
        "linear_svm_pipeline.fit(features_train, labels_train)"
      ],
      "execution_count": 0,
      "outputs": [
        {
          "output_type": "stream",
          "text": [
            "/usr/local/lib/python3.6/dist-packages/sklearn/utils/validation.py:724: DataConversionWarning: A column-vector y was passed when a 1d array was expected. Please change the shape of y to (n_samples, ), for example using ravel().\n",
            "  y = column_or_1d(y, warn=True)\n",
            "/usr/local/lib/python3.6/dist-packages/sklearn/svm/base.py:929: ConvergenceWarning: Liblinear failed to converge, increase the number of iterations.\n",
            "  \"the number of iterations.\", ConvergenceWarning)\n"
          ],
          "name": "stderr"
        },
        {
          "output_type": "execute_result",
          "data": {
            "text/plain": [
              "Pipeline(memory=None,\n",
              "         steps=[('scl',\n",
              "                 StandardScaler(copy=True, with_mean=True, with_std=True)),\n",
              "                ('pca',\n",
              "                 PCA(copy=True, iterated_power='auto', n_components=200,\n",
              "                     random_state=42, svd_solver='auto', tol=0.0,\n",
              "                     whiten=False)),\n",
              "                ('scl_2',\n",
              "                 StandardScaler(copy=True, with_mean=True, with_std=True)),\n",
              "                ('clf',\n",
              "                 LinearSVC(C=1.0, class_weight=None, dual=True,\n",
              "                           fit_intercept=True, intercept_scaling=1,\n",
              "                           loss='squared_hinge', max_iter=1000,\n",
              "                           multi_class='ovr', penalty='l2', random_state=None,\n",
              "                           tol=0.0001, verbose=0))],\n",
              "         verbose=False)"
            ]
          },
          "metadata": {
            "tags": []
          },
          "execution_count": 181
        }
      ]
    },
    {
      "cell_type": "code",
      "metadata": {
        "id": "goYejbf93Q7V",
        "colab_type": "code",
        "outputId": "eb2e30a5-0cb2-4c8d-c5b7-beb8475d1dbc",
        "colab": {
          "base_uri": "https://localhost:8080/",
          "height": 68
        }
      },
      "source": [
        "print(\"SVM Linear test accuracy score: {}\".format(linear_svm_pipeline.score(features_test, labels_test)))\n",
        "\n",
        "print(\"SVM Linear train accuracy score: {}\".format((linear_svm_pipeline.score(features_train, labels_train)) ))\n",
        "\n",
        "print(\"SVM Linear F1 score: {}\".format(f1_score(labels_test, linear_svm_pipeline.predict(features_test))))"
      ],
      "execution_count": 0,
      "outputs": [
        {
          "output_type": "stream",
          "text": [
            "SVM Linear test accuracy score: 0.9540636042402827\n",
            "SVM Linear train accuracy score: 0.9746308216584627\n",
            "SVM Linear F1 score: 0.9514925373134329\n"
          ],
          "name": "stdout"
        }
      ]
    },
    {
      "cell_type": "code",
      "metadata": {
        "id": "W4CVX7t93Q3F",
        "colab_type": "code",
        "outputId": "a7ac7111-41c1-4259-8cba-753fe6d4a4a3",
        "colab": {
          "base_uri": "https://localhost:8080/",
          "height": 632
        }
      },
      "source": [
        "linear_svm_params = dict(clf__C = [0.0001, 0.001, 1], pca__n_components=[250, 300])\n",
        "\n",
        "kfold = StratifiedKFold(n_splits=5)\n",
        "\n",
        "grid_search_linear_svm = GridSearchCV(linear_svm_pipeline, param_grid=linear_svm_params, cv=kfold, return_train_score=True, n_jobs=6)\n",
        "\n",
        "grid_search_linear_svm.fit(features_train, labels_train)"
      ],
      "execution_count": 0,
      "outputs": [
        {
          "output_type": "stream",
          "text": [
            "/usr/local/lib/python3.6/dist-packages/joblib/externals/loky/process_executor.py:706: UserWarning: A worker stopped while some jobs were given to the executor. This can be caused by a too short worker timeout or by a memory leak.\n",
            "  \"timeout or by a memory leak.\", UserWarning\n",
            "/usr/local/lib/python3.6/dist-packages/sklearn/utils/validation.py:724: DataConversionWarning: A column-vector y was passed when a 1d array was expected. Please change the shape of y to (n_samples, ), for example using ravel().\n",
            "  y = column_or_1d(y, warn=True)\n",
            "/usr/local/lib/python3.6/dist-packages/sklearn/svm/base.py:929: ConvergenceWarning: Liblinear failed to converge, increase the number of iterations.\n",
            "  \"the number of iterations.\", ConvergenceWarning)\n"
          ],
          "name": "stderr"
        },
        {
          "output_type": "execute_result",
          "data": {
            "text/plain": [
              "GridSearchCV(cv=StratifiedKFold(n_splits=5, random_state=None, shuffle=False),\n",
              "             error_score='raise-deprecating',\n",
              "             estimator=Pipeline(memory=None,\n",
              "                                steps=[('scl',\n",
              "                                        StandardScaler(copy=True,\n",
              "                                                       with_mean=True,\n",
              "                                                       with_std=True)),\n",
              "                                       ('pca',\n",
              "                                        PCA(copy=True, iterated_power='auto',\n",
              "                                            n_components=200, random_state=42,\n",
              "                                            svd_solver='auto', tol=0.0,\n",
              "                                            whiten=False)),\n",
              "                                       ('scl_2',\n",
              "                                        StandardScaler(...\n",
              "                                        LinearSVC(C=1.0, class_weight=None,\n",
              "                                                  dual=True, fit_intercept=True,\n",
              "                                                  intercept_scaling=1,\n",
              "                                                  loss='squared_hinge',\n",
              "                                                  max_iter=1000,\n",
              "                                                  multi_class='ovr',\n",
              "                                                  penalty='l2',\n",
              "                                                  random_state=None, tol=0.0001,\n",
              "                                                  verbose=0))],\n",
              "                                verbose=False),\n",
              "             iid='warn', n_jobs=6,\n",
              "             param_grid={'clf__C': [0.0001, 0.001, 1],\n",
              "                         'pca__n_components': [250, 300]},\n",
              "             pre_dispatch='2*n_jobs', refit=True, return_train_score=True,\n",
              "             scoring=None, verbose=0)"
            ]
          },
          "metadata": {
            "tags": []
          },
          "execution_count": 182
        }
      ]
    },
    {
      "cell_type": "code",
      "metadata": {
        "id": "X-V4C6kp3WqG",
        "colab_type": "code",
        "outputId": "6bb7e9a1-fa35-427f-ffda-9523f7ee0223",
        "colab": {
          "base_uri": "https://localhost:8080/",
          "height": 34
        }
      },
      "source": [
        "print(\"SVM Linear Grid Search best score: {}\".format(grid_search_linear_svm.best_params_))"
      ],
      "execution_count": 0,
      "outputs": [
        {
          "output_type": "stream",
          "text": [
            "SVM Gaussian Grid Search best score: {'clf__C': 1, 'pca__n_components': 300}\n"
          ],
          "name": "stdout"
        }
      ]
    },
    {
      "cell_type": "code",
      "metadata": {
        "id": "G6zeWaqk3WmP",
        "colab_type": "code",
        "outputId": "56aaf5f7-4274-4e78-9d7f-00aa654c005e",
        "colab": {
          "base_uri": "https://localhost:8080/",
          "height": 34
        }
      },
      "source": [
        "print(\"SVM Linear Grid Search best score: {}\".format(grid_search_linear_svm.best_score_))"
      ],
      "execution_count": 0,
      "outputs": [
        {
          "output_type": "stream",
          "text": [
            "SVM Gaussian Grid Search best score: 0.9454751987883377\n"
          ],
          "name": "stdout"
        }
      ]
    },
    {
      "cell_type": "code",
      "metadata": {
        "id": "WNLMuQY53Wj7",
        "colab_type": "code",
        "outputId": "86903dc3-802d-4c9a-cf1c-98c7b2fd9bdc",
        "colab": {
          "base_uri": "https://localhost:8080/",
          "height": 255
        }
      },
      "source": [
        "print_grid_search_results(grid_search_linear_svm, splits=5)"
      ],
      "execution_count": 0,
      "outputs": [
        {
          "output_type": "execute_result",
          "data": {
            "text/html": [
              "<div>\n",
              "<style scoped>\n",
              "    .dataframe tbody tr th:only-of-type {\n",
              "        vertical-align: middle;\n",
              "    }\n",
              "\n",
              "    .dataframe tbody tr th {\n",
              "        vertical-align: top;\n",
              "    }\n",
              "\n",
              "    .dataframe thead th {\n",
              "        text-align: right;\n",
              "    }\n",
              "</style>\n",
              "<table border=\"1\" class=\"dataframe\">\n",
              "  <thead>\n",
              "    <tr style=\"text-align: right;\">\n",
              "      <th></th>\n",
              "      <th>param_clf__C</th>\n",
              "      <th>PCA</th>\n",
              "      <th>split0_test</th>\n",
              "      <th>split1_test</th>\n",
              "      <th>split2_test</th>\n",
              "      <th>split3_test</th>\n",
              "      <th>split4_test</th>\n",
              "      <th>mean_test</th>\n",
              "      <th>std_test_score</th>\n",
              "      <th>rank_test</th>\n",
              "      <th>split0_train</th>\n",
              "      <th>split1_train</th>\n",
              "      <th>split2_train</th>\n",
              "      <th>split3_train</th>\n",
              "      <th>split4_train</th>\n",
              "      <th>mean_train</th>\n",
              "      <th>std_train_score</th>\n",
              "    </tr>\n",
              "  </thead>\n",
              "  <tbody>\n",
              "    <tr>\n",
              "      <th>5</th>\n",
              "      <td>1</td>\n",
              "      <td>300</td>\n",
              "      <td>0.945180</td>\n",
              "      <td>0.960302</td>\n",
              "      <td>0.950758</td>\n",
              "      <td>0.948864</td>\n",
              "      <td>0.922201</td>\n",
              "      <td>0.945475</td>\n",
              "      <td>0.012650</td>\n",
              "      <td>1</td>\n",
              "      <td>1.000000</td>\n",
              "      <td>0.999527</td>\n",
              "      <td>0.996214</td>\n",
              "      <td>0.995267</td>\n",
              "      <td>0.998581</td>\n",
              "      <td>0.997918</td>\n",
              "      <td>0.001860</td>\n",
              "    </tr>\n",
              "    <tr>\n",
              "      <th>4</th>\n",
              "      <td>1</td>\n",
              "      <td>250</td>\n",
              "      <td>0.947070</td>\n",
              "      <td>0.956522</td>\n",
              "      <td>0.954545</td>\n",
              "      <td>0.937500</td>\n",
              "      <td>0.929791</td>\n",
              "      <td>0.945097</td>\n",
              "      <td>0.010152</td>\n",
              "      <td>2</td>\n",
              "      <td>0.990057</td>\n",
              "      <td>0.998580</td>\n",
              "      <td>0.996687</td>\n",
              "      <td>0.991008</td>\n",
              "      <td>0.999527</td>\n",
              "      <td>0.995172</td>\n",
              "      <td>0.003908</td>\n",
              "    </tr>\n",
              "    <tr>\n",
              "      <th>3</th>\n",
              "      <td>0.001</td>\n",
              "      <td>300</td>\n",
              "      <td>0.935728</td>\n",
              "      <td>0.947070</td>\n",
              "      <td>0.943182</td>\n",
              "      <td>0.958333</td>\n",
              "      <td>0.924099</td>\n",
              "      <td>0.941689</td>\n",
              "      <td>0.011423</td>\n",
              "      <td>3</td>\n",
              "      <td>0.965436</td>\n",
              "      <td>0.968750</td>\n",
              "      <td>0.968765</td>\n",
              "      <td>0.970185</td>\n",
              "      <td>0.969253</td>\n",
              "      <td>0.968478</td>\n",
              "      <td>0.001608</td>\n",
              "    </tr>\n",
              "    <tr>\n",
              "      <th>2</th>\n",
              "      <td>0.001</td>\n",
              "      <td>250</td>\n",
              "      <td>0.935728</td>\n",
              "      <td>0.947070</td>\n",
              "      <td>0.943182</td>\n",
              "      <td>0.952652</td>\n",
              "      <td>0.916509</td>\n",
              "      <td>0.939038</td>\n",
              "      <td>0.012525</td>\n",
              "      <td>4</td>\n",
              "      <td>0.961174</td>\n",
              "      <td>0.964015</td>\n",
              "      <td>0.958826</td>\n",
              "      <td>0.959773</td>\n",
              "      <td>0.961211</td>\n",
              "      <td>0.961000</td>\n",
              "      <td>0.001755</td>\n",
              "    </tr>\n",
              "    <tr>\n",
              "      <th>1</th>\n",
              "      <td>0.0001</td>\n",
              "      <td>300</td>\n",
              "      <td>0.937618</td>\n",
              "      <td>0.943289</td>\n",
              "      <td>0.939394</td>\n",
              "      <td>0.950758</td>\n",
              "      <td>0.920304</td>\n",
              "      <td>0.938281</td>\n",
              "      <td>0.010048</td>\n",
              "      <td>5</td>\n",
              "      <td>0.962121</td>\n",
              "      <td>0.967330</td>\n",
              "      <td>0.964032</td>\n",
              "      <td>0.966872</td>\n",
              "      <td>0.966414</td>\n",
              "      <td>0.965354</td>\n",
              "      <td>0.001976</td>\n",
              "    </tr>\n",
              "    <tr>\n",
              "      <th>0</th>\n",
              "      <td>0.0001</td>\n",
              "      <td>250</td>\n",
              "      <td>0.935728</td>\n",
              "      <td>0.945180</td>\n",
              "      <td>0.943182</td>\n",
              "      <td>0.943182</td>\n",
              "      <td>0.920304</td>\n",
              "      <td>0.937524</td>\n",
              "      <td>0.009185</td>\n",
              "      <td>6</td>\n",
              "      <td>0.954072</td>\n",
              "      <td>0.958807</td>\n",
              "      <td>0.956460</td>\n",
              "      <td>0.953147</td>\n",
              "      <td>0.957427</td>\n",
              "      <td>0.955983</td>\n",
              "      <td>0.002097</td>\n",
              "    </tr>\n",
              "  </tbody>\n",
              "</table>\n",
              "</div>"
            ],
            "text/plain": [
              "  param_clf__C  PCA  split0_test  ...  split4_train  mean_train  std_train_score\n",
              "5            1  300     0.945180  ...      0.998581    0.997918         0.001860\n",
              "4            1  250     0.947070  ...      0.999527    0.995172         0.003908\n",
              "3        0.001  300     0.935728  ...      0.969253    0.968478         0.001608\n",
              "2        0.001  250     0.935728  ...      0.961211    0.961000         0.001755\n",
              "1       0.0001  300     0.937618  ...      0.966414    0.965354         0.001976\n",
              "0       0.0001  250     0.935728  ...      0.957427    0.955983         0.002097\n",
              "\n",
              "[6 rows x 17 columns]"
            ]
          },
          "metadata": {
            "tags": []
          },
          "execution_count": 127
        }
      ]
    },
    {
      "cell_type": "code",
      "metadata": {
        "id": "BRhLpq803QtL",
        "colab_type": "code",
        "outputId": "19b2da90-05cf-497b-980c-4bebb4ca1fc7",
        "colab": {
          "base_uri": "https://localhost:8080/",
          "height": 295
        }
      },
      "source": [
        "title = \"Learning Curves (Linear SVM)\"\n",
        "\n",
        "scaled_features = StandardScaler().fit_transform(features)\n",
        "pca_features = PCA(n_components = 300).fit_transform(scaled_features)\n",
        "linear_svm_best_estimator = LinearSVC(C = 1)\n",
        "cv = ShuffleSplit(n_splits=5, test_size=0.7, random_state=42)\n",
        "\n",
        "plot_learning_curve(linear_svm_best_estimator, title, pca_features, labels, ylim=(0.4, 2.), cv=cv, n_jobs=4)\n",
        "\n",
        "plt.show()"
      ],
      "execution_count": 0,
      "outputs": [
        {
          "output_type": "display_data",
          "data": {
            "image/png": "[encoded data removed]",
            "text/plain": [
              "<Figure size 432x288 with 1 Axes>"
            ]
          },
          "metadata": {
            "tags": []
          }
        }
      ]
    },
    {
      "cell_type": "markdown",
      "metadata": {
        "id": "pl6EQdZyIND_",
        "colab_type": "text"
      },
      "source": [
        "**SVM GAUSSIAN**"
      ]
    },
    {
      "cell_type": "code",
      "metadata": {
        "id": "8djF7QBvIRMQ",
        "colab_type": "code",
        "outputId": "bda07131-5aea-4a93-b3c8-b9b37300910c",
        "colab": {
          "base_uri": "https://localhost:8080/",
          "height": 343
        }
      },
      "source": [
        "svm_gaussian = SVC()\n",
        "svm_pipeline = Pipeline(steps=[('svm_scl_before', StandardScaler()), \n",
        "                               ('pca', PCA(n_components=300, random_state=42)),\n",
        "                               ('svm_scl_after', StandardScaler()),\n",
        "                               ('svm_gaussian', svm_gaussian)])\n",
        "\n",
        "\n",
        "features_train, features_test, labels_train, labels_test = train_test_split(features, labels, train_size=0.7, test_size=0.3, random_state=42)\n",
        "     \n",
        "svm_pipeline.fit(features_train, labels_train)"
      ],
      "execution_count": 0,
      "outputs": [
        {
          "output_type": "stream",
          "text": [
            "/usr/local/lib/python3.6/dist-packages/sklearn/utils/validation.py:724: DataConversionWarning: A column-vector y was passed when a 1d array was expected. Please change the shape of y to (n_samples, ), for example using ravel().\n",
            "  y = column_or_1d(y, warn=True)\n"
          ],
          "name": "stderr"
        },
        {
          "output_type": "execute_result",
          "data": {
            "text/plain": [
              "Pipeline(memory=None,\n",
              "         steps=[('svm_scl_before',\n",
              "                 StandardScaler(copy=True, with_mean=True, with_std=True)),\n",
              "                ('pca',\n",
              "                 PCA(copy=True, iterated_power='auto', n_components=300,\n",
              "                     random_state=42, svd_solver='auto', tol=0.0,\n",
              "                     whiten=False)),\n",
              "                ('svm_scl_after',\n",
              "                 StandardScaler(copy=True, with_mean=True, with_std=True)),\n",
              "                ('svm_gaussian',\n",
              "                 SVC(C=1.0, cache_size=200, class_weight=None, coef0=0.0,\n",
              "                     decision_function_shape='ovr', degree=3,\n",
              "                     gamma='auto_deprecated', kernel='rbf', max_iter=-1,\n",
              "                     probability=False, random_state=None, shrinking=True,\n",
              "                     tol=0.001, verbose=False))],\n",
              "         verbose=False)"
            ]
          },
          "metadata": {
            "tags": []
          },
          "execution_count": 131
        }
      ]
    },
    {
      "cell_type": "code",
      "metadata": {
        "id": "0UpshKEaKufh",
        "colab_type": "code",
        "outputId": "6765054a-622e-4c9d-ff13-32ddfb63d50a",
        "colab": {
          "base_uri": "https://localhost:8080/",
          "height": 68
        }
      },
      "source": [
        "print(\"SVM Gaussian test accuracy score: {}\".format(svm_pipeline.score(features_test, labels_test)))\n",
        "\n",
        "print(\"SVM Gaussian train accuracy score: {}\".format((svm_pipeline.score(features_train, labels_train)) ))\n",
        "\n",
        "print(\"SVM Gaussian F1 score: {}\".format(f1_score(labels_test, svm_pipeline.predict(features_test))))"
      ],
      "execution_count": 0,
      "outputs": [
        {
          "output_type": "stream",
          "text": [
            "SVM Gaussian test accuracy score: 0.9743816254416962\n",
            "SVM Gaussian train accuracy score: 0.9981067777357062\n",
            "SVM Gaussian F1 score: 0.9726672950047125\n"
          ],
          "name": "stdout"
        }
      ]
    },
    {
      "cell_type": "code",
      "metadata": {
        "id": "-nf4BdVMLObn",
        "colab_type": "code",
        "outputId": "3604ed3f-4acd-4728-b5e8-ee9f70fc6641",
        "colab": {
          "base_uri": "https://localhost:8080/",
          "height": 530
        }
      },
      "source": [
        "svm_params = dict(svm_gaussian__C = [0.75, 1], svm_gaussian__gamma = [0.007, 0.0075])\n",
        "\n",
        "kfold = StratifiedKFold(n_splits=5)\n",
        "\n",
        "grid_search_svm = GridSearchCV(svm_pipeline, param_grid=svm_params, cv = kfold, return_train_score=True, n_jobs=6)\n",
        "\n",
        "grid_search_svm.fit(features_train, labels_train)\n"
      ],
      "execution_count": 0,
      "outputs": [
        {
          "output_type": "stream",
          "text": [
            "/usr/local/lib/python3.6/dist-packages/joblib/externals/loky/process_executor.py:706: UserWarning: A worker stopped while some jobs were given to the executor. This can be caused by a too short worker timeout or by a memory leak.\n",
            "  \"timeout or by a memory leak.\", UserWarning\n",
            "/usr/local/lib/python3.6/dist-packages/sklearn/utils/validation.py:724: DataConversionWarning: A column-vector y was passed when a 1d array was expected. Please change the shape of y to (n_samples, ), for example using ravel().\n",
            "  y = column_or_1d(y, warn=True)\n"
          ],
          "name": "stderr"
        },
        {
          "output_type": "execute_result",
          "data": {
            "text/plain": [
              "GridSearchCV(cv=StratifiedKFold(n_splits=5, random_state=None, shuffle=False),\n",
              "             error_score='raise-deprecating',\n",
              "             estimator=Pipeline(memory=None,\n",
              "                                steps=[('svm_scl_before',\n",
              "                                        StandardScaler(copy=True,\n",
              "                                                       with_mean=True,\n",
              "                                                       with_std=True)),\n",
              "                                       ('pca',\n",
              "                                        PCA(copy=True, iterated_power='auto',\n",
              "                                            n_components=300, random_state=42,\n",
              "                                            svd_solver='auto', tol=0.0,\n",
              "                                            whiten=False)),\n",
              "                                       ('svm_scl_aft...\n",
              "                                            decision_function_shape='ovr',\n",
              "                                            degree=3, gamma='auto_deprecated',\n",
              "                                            kernel='rbf', max_iter=-1,\n",
              "                                            probability=True, random_state=None,\n",
              "                                            shrinking=True, tol=0.001,\n",
              "                                            verbose=False))],\n",
              "                                verbose=False),\n",
              "             iid='warn', n_jobs=6,\n",
              "             param_grid={'svm_gaussian__C': [0.75, 1],\n",
              "                         'svm_gaussian__gamma': [0.007, 0.0075]},\n",
              "             pre_dispatch='2*n_jobs', refit=True, return_train_score=True,\n",
              "             scoring=None, verbose=0)"
            ]
          },
          "metadata": {
            "tags": []
          },
          "execution_count": 54
        }
      ]
    },
    {
      "cell_type": "code",
      "metadata": {
        "id": "TjpICFVdL31E",
        "colab_type": "code",
        "outputId": "76da7eb5-ba3f-4f8b-e3a8-d1f315cae1a6",
        "colab": {
          "base_uri": "https://localhost:8080/",
          "height": 34
        }
      },
      "source": [
        "grid_search_svm.best_params_"
      ],
      "execution_count": 0,
      "outputs": [
        {
          "output_type": "execute_result",
          "data": {
            "text/plain": [
              "{'svm_gaussian__C': 1, 'svm_gaussian__gamma': 0.007}"
            ]
          },
          "metadata": {
            "tags": []
          },
          "execution_count": 68
        }
      ]
    },
    {
      "cell_type": "code",
      "metadata": {
        "id": "Gn_i33l3L81G",
        "colab_type": "code",
        "outputId": "a660c4c8-ff8a-4be3-ee2e-344a0e99b7db",
        "colab": {
          "base_uri": "https://localhost:8080/",
          "height": 34
        }
      },
      "source": [
        "print(\"SVM Gaussian Grid Search best score: {}\".format(grid_search_svm.best_score_))"
      ],
      "execution_count": 0,
      "outputs": [
        {
          "output_type": "stream",
          "text": [
            "SVM Gaussian Grid Search best score: 0.9700870882241576\n"
          ],
          "name": "stdout"
        }
      ]
    },
    {
      "cell_type": "code",
      "metadata": {
        "id": "-5bnIrbDNDyM",
        "colab_type": "code",
        "outputId": "3b2e7d5b-8349-41f9-8791-255a21310183",
        "colab": {
          "base_uri": "https://localhost:8080/",
          "height": 193
        }
      },
      "source": [
        "print_grid_search_results(grid_search_svm, splits=5)"
      ],
      "execution_count": 0,
      "outputs": [
        {
          "output_type": "execute_result",
          "data": {
            "text/html": [
              "<div>\n",
              "<style scoped>\n",
              "    .dataframe tbody tr th:only-of-type {\n",
              "        vertical-align: middle;\n",
              "    }\n",
              "\n",
              "    .dataframe tbody tr th {\n",
              "        vertical-align: top;\n",
              "    }\n",
              "\n",
              "    .dataframe thead th {\n",
              "        text-align: right;\n",
              "    }\n",
              "</style>\n",
              "<table border=\"1\" class=\"dataframe\">\n",
              "  <thead>\n",
              "    <tr style=\"text-align: right;\">\n",
              "      <th></th>\n",
              "      <th>param_svm_gaussian__C</th>\n",
              "      <th>param_svm_gaussian__gamma</th>\n",
              "      <th>split0_test</th>\n",
              "      <th>split1_test</th>\n",
              "      <th>split2_test</th>\n",
              "      <th>split3_test</th>\n",
              "      <th>split4_test</th>\n",
              "      <th>mean_test</th>\n",
              "      <th>std_test_score</th>\n",
              "      <th>rank_test</th>\n",
              "      <th>split0_train</th>\n",
              "      <th>split1_train</th>\n",
              "      <th>split2_train</th>\n",
              "      <th>split3_train</th>\n",
              "      <th>split4_train</th>\n",
              "      <th>mean_train</th>\n",
              "      <th>std_train_score</th>\n",
              "    </tr>\n",
              "  </thead>\n",
              "  <tbody>\n",
              "    <tr>\n",
              "      <th>2</th>\n",
              "      <td>1</td>\n",
              "      <td>0.007</td>\n",
              "      <td>0.975425</td>\n",
              "      <td>0.967864</td>\n",
              "      <td>0.979167</td>\n",
              "      <td>0.975379</td>\n",
              "      <td>0.952562</td>\n",
              "      <td>0.970087</td>\n",
              "      <td>0.009490</td>\n",
              "      <td>1</td>\n",
              "      <td>1.0</td>\n",
              "      <td>1.000000</td>\n",
              "      <td>1.000000</td>\n",
              "      <td>1.0</td>\n",
              "      <td>1.0</td>\n",
              "      <td>1.000000</td>\n",
              "      <td>0.000000</td>\n",
              "    </tr>\n",
              "    <tr>\n",
              "      <th>3</th>\n",
              "      <td>1</td>\n",
              "      <td>0.0075</td>\n",
              "      <td>0.967864</td>\n",
              "      <td>0.967864</td>\n",
              "      <td>0.982955</td>\n",
              "      <td>0.973485</td>\n",
              "      <td>0.950664</td>\n",
              "      <td>0.968573</td>\n",
              "      <td>0.010506</td>\n",
              "      <td>2</td>\n",
              "      <td>1.0</td>\n",
              "      <td>1.000000</td>\n",
              "      <td>1.000000</td>\n",
              "      <td>1.0</td>\n",
              "      <td>1.0</td>\n",
              "      <td>1.000000</td>\n",
              "      <td>0.000000</td>\n",
              "    </tr>\n",
              "    <tr>\n",
              "      <th>0</th>\n",
              "      <td>0.75</td>\n",
              "      <td>0.007</td>\n",
              "      <td>0.930057</td>\n",
              "      <td>0.969754</td>\n",
              "      <td>0.956439</td>\n",
              "      <td>0.975379</td>\n",
              "      <td>0.941176</td>\n",
              "      <td>0.954563</td>\n",
              "      <td>0.017018</td>\n",
              "      <td>3</td>\n",
              "      <td>1.0</td>\n",
              "      <td>0.999527</td>\n",
              "      <td>0.999527</td>\n",
              "      <td>1.0</td>\n",
              "      <td>1.0</td>\n",
              "      <td>0.999811</td>\n",
              "      <td>0.000232</td>\n",
              "    </tr>\n",
              "    <tr>\n",
              "      <th>1</th>\n",
              "      <td>0.75</td>\n",
              "      <td>0.0075</td>\n",
              "      <td>0.916824</td>\n",
              "      <td>0.964083</td>\n",
              "      <td>0.948864</td>\n",
              "      <td>0.962121</td>\n",
              "      <td>0.924099</td>\n",
              "      <td>0.943203</td>\n",
              "      <td>0.019429</td>\n",
              "      <td>4</td>\n",
              "      <td>1.0</td>\n",
              "      <td>1.000000</td>\n",
              "      <td>0.999527</td>\n",
              "      <td>1.0</td>\n",
              "      <td>1.0</td>\n",
              "      <td>0.999905</td>\n",
              "      <td>0.000189</td>\n",
              "    </tr>\n",
              "  </tbody>\n",
              "</table>\n",
              "</div>"
            ],
            "text/plain": [
              "  param_svm_gaussian__C param_svm_gaussian__gamma  ...  mean_train  std_train_score\n",
              "2                     1                     0.007  ...    1.000000         0.000000\n",
              "3                     1                    0.0075  ...    1.000000         0.000000\n",
              "0                  0.75                     0.007  ...    0.999811         0.000232\n",
              "1                  0.75                    0.0075  ...    0.999905         0.000189\n",
              "\n",
              "[4 rows x 17 columns]"
            ]
          },
          "metadata": {
            "tags": []
          },
          "execution_count": 70
        }
      ]
    },
    {
      "cell_type": "code",
      "metadata": {
        "id": "k6KFID6TNdXN",
        "colab_type": "code",
        "outputId": "14d383b7-3e62-4ed5-989e-4ff92b309f20",
        "colab": {
          "base_uri": "https://localhost:8080/",
          "height": 295
        }
      },
      "source": [
        "title = \"Learning Curves (Gaussian SVM)\"\n",
        "\n",
        "scaled_features = StandardScaler().fit_transform(features)\n",
        "pca_features = PCA(n_components = 300).fit_transform(scaled_features)\n",
        "svm_best_estimator = SVC(C = 1, gamma = 0.007)\n",
        "cv = ShuffleSplit(n_splits=5, test_size=0.7, random_state=42)\n",
        "\n",
        "plot_learning_curve(svm_best_estimator, title, pca_features, labels, ylim=(0.4, 2.), cv=cv, n_jobs=4)\n",
        "\n",
        "plt.show()"
      ],
      "execution_count": 0,
      "outputs": [
        {
          "output_type": "display_data",
          "data": {
            "image/png": "[encoded data removed]",
            "text/plain": [
              "<Figure size 432x288 with 1 Axes>"
            ]
          },
          "metadata": {
            "tags": []
          }
        }
      ]
    },
    {
      "cell_type": "markdown",
      "metadata": {
        "id": "DM-dv9kjjm0w",
        "colab_type": "text"
      },
      "source": [
        "**Basic Random Forest**"
      ]
    },
    {
      "cell_type": "code",
      "metadata": {
        "id": "jaN470t-jp4l",
        "colab_type": "code",
        "outputId": "40231943-23bd-43a1-e65a-e6464191b3bf",
        "colab": {
          "base_uri": "https://localhost:8080/",
          "height": 139
        }
      },
      "source": [
        "forest_pipeline = Pipeline(steps=[('scaler', StandardScaler()), \n",
        "                                  ('pca', PCA(n_components = 300)),\n",
        "                                  ('scaler_1', StandardScaler()),\n",
        "                                  ('clf', RandomForestClassifier(criterion='gini'))])\n",
        "\n",
        "features_train, features_test, labels_train, labels_test = train_test_split(features, labels, train_size=0.7, test_size=0.3, random_state = 42)\n",
        "\n",
        "forest_pipeline.fit(features_train, labels_train)\n",
        "\n",
        "print(\"Test score: {}\".format(forest_pipeline.score(features_test, labels_test))) \n",
        "print(\"Train score: {}\".format(forest_pipeline.score(features_train, labels_train))) "
      ],
      "execution_count": 0,
      "outputs": [
        {
          "output_type": "stream",
          "text": [
            "/usr/local/lib/python3.6/dist-packages/sklearn/ensemble/forest.py:245: FutureWarning: The default value of n_estimators will change from 10 in version 0.20 to 100 in 0.22.\n",
            "  \"10 in version 0.20 to 100 in 0.22.\", FutureWarning)\n",
            "/usr/local/lib/python3.6/dist-packages/sklearn/pipeline.py:356: DataConversionWarning: A column-vector y was passed when a 1d array was expected. Please change the shape of y to (n_samples,), for example using ravel().\n",
            "  self._final_estimator.fit(Xt, y, **fit_params)\n"
          ],
          "name": "stderr"
        },
        {
          "output_type": "stream",
          "text": [
            "Test score: 0.9337455830388692\n",
            "Train score: 0.9965921999242711\n"
          ],
          "name": "stdout"
        }
      ]
    },
    {
      "cell_type": "code",
      "metadata": {
        "id": "am0IEEGBkWGL",
        "colab_type": "code",
        "outputId": "1d9c1996-e996-4d24-ff02-1820b2d14ba4",
        "colab": {
          "base_uri": "https://localhost:8080/",
          "height": 68
        }
      },
      "source": [
        "print(\"Basic Random Forest test accuracy score: {}\".format(forest_pipeline.score(features_test, labels_test)))\n",
        "\n",
        "print(\"Basic Random Forest train accuracy score: {}\".format((forest_pipeline.score(features_train, labels_train)) ))\n",
        "\n",
        "print(\"Basic Random Forest F1 score: {}\".format(f1_score(labels_test, forest_pipeline.predict(features_test))))"
      ],
      "execution_count": 0,
      "outputs": [
        {
          "output_type": "stream",
          "text": [
            "Basic Random Forest test accuracy score: 0.9337455830388692\n",
            "Basic Random Forest train accuracy score: 0.9965921999242711\n",
            "Basic Random Forest F1 score: 0.9299719887955182\n"
          ],
          "name": "stdout"
        }
      ]
    },
    {
      "cell_type": "code",
      "metadata": {
        "id": "kEZRfI3Tkpp_",
        "colab_type": "code",
        "outputId": "58f4082b-0140-4f0b-98b4-066249c36ea2",
        "colab": {
          "base_uri": "https://localhost:8080/",
          "height": 615
        }
      },
      "source": [
        "forest_params = dict(clf__n_estimators = [1500, 2000], clf__max_depth=[2, 3])\n",
        "\n",
        "kfold = StratifiedKFold(n_splits=5)\n",
        "\n",
        "grid_search_forest = GridSearchCV(forest_pipeline, param_grid=forest_params, cv=kfold, return_train_score=True, n_jobs=6)\n",
        "\n",
        "grid_search_forest.fit(features_train, labels_train)"
      ],
      "execution_count": 0,
      "outputs": [
        {
          "output_type": "stream",
          "text": [
            "/usr/local/lib/python3.6/dist-packages/joblib/externals/loky/process_executor.py:706: UserWarning: A worker stopped while some jobs were given to the executor. This can be caused by a too short worker timeout or by a memory leak.\n",
            "  \"timeout or by a memory leak.\", UserWarning\n",
            "/usr/local/lib/python3.6/dist-packages/sklearn/pipeline.py:356: DataConversionWarning: A column-vector y was passed when a 1d array was expected. Please change the shape of y to (n_samples,), for example using ravel().\n",
            "  self._final_estimator.fit(Xt, y, **fit_params)\n"
          ],
          "name": "stderr"
        },
        {
          "output_type": "execute_result",
          "data": {
            "text/plain": [
              "GridSearchCV(cv=StratifiedKFold(n_splits=5, random_state=None, shuffle=False),\n",
              "             error_score='raise-deprecating',\n",
              "             estimator=Pipeline(memory=None,\n",
              "                                steps=[('scaler',\n",
              "                                        StandardScaler(copy=True,\n",
              "                                                       with_mean=True,\n",
              "                                                       with_std=True)),\n",
              "                                       ('pca',\n",
              "                                        PCA(copy=True, iterated_power='auto',\n",
              "                                            n_components=300, random_state=None,\n",
              "                                            svd_solver='auto', tol=0.0,\n",
              "                                            whiten=False)),\n",
              "                                       ('scaler_1',\n",
              "                                        Standar...\n",
              "                                                               min_impurity_split=None,\n",
              "                                                               min_samples_leaf=1,\n",
              "                                                               min_samples_split=2,\n",
              "                                                               min_weight_fraction_leaf=0.0,\n",
              "                                                               n_estimators=10,\n",
              "                                                               n_jobs=None,\n",
              "                                                               oob_score=False,\n",
              "                                                               random_state=None,\n",
              "                                                               verbose=0,\n",
              "                                                               warm_start=False))],\n",
              "                                verbose=False),\n",
              "             iid='warn', n_jobs=6,\n",
              "             param_grid={'clf__max_depth': [2, 3],\n",
              "                         'clf__n_estimators': [1500, 2000]},\n",
              "             pre_dispatch='2*n_jobs', refit=True, return_train_score=True,\n",
              "             scoring=None, verbose=0)"
            ]
          },
          "metadata": {
            "tags": []
          },
          "execution_count": 165
        }
      ]
    },
    {
      "cell_type": "code",
      "metadata": {
        "id": "CC9ROXFpk8O2",
        "colab_type": "code",
        "outputId": "732bfed4-40f8-4225-e519-e88382336a5c",
        "colab": {
          "base_uri": "https://localhost:8080/",
          "height": 34
        }
      },
      "source": [
        "print(\"Basic Random Forest Grid Search best parameters: {}\".format(grid_search_forest.best_params_))"
      ],
      "execution_count": 0,
      "outputs": [
        {
          "output_type": "stream",
          "text": [
            "Basic Random Forest Grid Search best parameters: {'clf__max_depth': 3, 'clf__n_estimators': 2000}\n"
          ],
          "name": "stdout"
        }
      ]
    },
    {
      "cell_type": "code",
      "metadata": {
        "id": "3-gYcqWilE0M",
        "colab_type": "code",
        "outputId": "65bd20e8-6d18-4adc-c65c-aa967e9bcaed",
        "colab": {
          "base_uri": "https://localhost:8080/",
          "height": 34
        }
      },
      "source": [
        "print(\"Basic Random Forest Grid Search best score: {}\".format(grid_search_forest.best_score_))"
      ],
      "execution_count": 0,
      "outputs": [
        {
          "output_type": "stream",
          "text": [
            "Basic Random Forest Grid Search best score: 0.9140477092010602\n"
          ],
          "name": "stdout"
        }
      ]
    },
    {
      "cell_type": "code",
      "metadata": {
        "id": "sVeeNAM7lI2j",
        "colab_type": "code",
        "outputId": "baa1ceb2-15f4-43d5-fbf7-b0a5fd8cc37c",
        "colab": {
          "base_uri": "https://localhost:8080/",
          "height": 193
        }
      },
      "source": [
        "print_grid_search_results(grid_search_forest, splits=5)"
      ],
      "execution_count": 0,
      "outputs": [
        {
          "output_type": "execute_result",
          "data": {
            "text/html": [
              "<div>\n",
              "<style scoped>\n",
              "    .dataframe tbody tr th:only-of-type {\n",
              "        vertical-align: middle;\n",
              "    }\n",
              "\n",
              "    .dataframe tbody tr th {\n",
              "        vertical-align: top;\n",
              "    }\n",
              "\n",
              "    .dataframe thead th {\n",
              "        text-align: right;\n",
              "    }\n",
              "</style>\n",
              "<table border=\"1\" class=\"dataframe\">\n",
              "  <thead>\n",
              "    <tr style=\"text-align: right;\">\n",
              "      <th></th>\n",
              "      <th>param_clf__max_depth</th>\n",
              "      <th>n_estimators</th>\n",
              "      <th>split0_test</th>\n",
              "      <th>split1_test</th>\n",
              "      <th>split2_test</th>\n",
              "      <th>split3_test</th>\n",
              "      <th>split4_test</th>\n",
              "      <th>mean_test</th>\n",
              "      <th>std_test_score</th>\n",
              "      <th>rank_test</th>\n",
              "      <th>split0_train</th>\n",
              "      <th>split1_train</th>\n",
              "      <th>split2_train</th>\n",
              "      <th>split3_train</th>\n",
              "      <th>split4_train</th>\n",
              "      <th>mean_train</th>\n",
              "      <th>std_train_score</th>\n",
              "    </tr>\n",
              "  </thead>\n",
              "  <tbody>\n",
              "    <tr>\n",
              "      <th>3</th>\n",
              "      <td>3</td>\n",
              "      <td>2000</td>\n",
              "      <td>0.899811</td>\n",
              "      <td>0.924386</td>\n",
              "      <td>0.920455</td>\n",
              "      <td>0.920455</td>\n",
              "      <td>0.905123</td>\n",
              "      <td>0.914048</td>\n",
              "      <td>0.009711</td>\n",
              "      <td>1</td>\n",
              "      <td>0.936080</td>\n",
              "      <td>0.937027</td>\n",
              "      <td>0.936583</td>\n",
              "      <td>0.934217</td>\n",
              "      <td>0.934721</td>\n",
              "      <td>0.935725</td>\n",
              "      <td>0.001081</td>\n",
              "    </tr>\n",
              "    <tr>\n",
              "      <th>2</th>\n",
              "      <td>3</td>\n",
              "      <td>1500</td>\n",
              "      <td>0.901701</td>\n",
              "      <td>0.926276</td>\n",
              "      <td>0.905303</td>\n",
              "      <td>0.918561</td>\n",
              "      <td>0.905123</td>\n",
              "      <td>0.911397</td>\n",
              "      <td>0.009419</td>\n",
              "      <td>2</td>\n",
              "      <td>0.939867</td>\n",
              "      <td>0.936080</td>\n",
              "      <td>0.934690</td>\n",
              "      <td>0.934217</td>\n",
              "      <td>0.938978</td>\n",
              "      <td>0.936766</td>\n",
              "      <td>0.002271</td>\n",
              "    </tr>\n",
              "    <tr>\n",
              "      <th>0</th>\n",
              "      <td>2</td>\n",
              "      <td>1500</td>\n",
              "      <td>0.877127</td>\n",
              "      <td>0.896030</td>\n",
              "      <td>0.897727</td>\n",
              "      <td>0.909091</td>\n",
              "      <td>0.882353</td>\n",
              "      <td>0.892465</td>\n",
              "      <td>0.011440</td>\n",
              "      <td>3</td>\n",
              "      <td>0.906723</td>\n",
              "      <td>0.911932</td>\n",
              "      <td>0.906768</td>\n",
              "      <td>0.919072</td>\n",
              "      <td>0.910596</td>\n",
              "      <td>0.911018</td>\n",
              "      <td>0.004525</td>\n",
              "    </tr>\n",
              "    <tr>\n",
              "      <th>1</th>\n",
              "      <td>2</td>\n",
              "      <td>2000</td>\n",
              "      <td>0.869565</td>\n",
              "      <td>0.907372</td>\n",
              "      <td>0.897727</td>\n",
              "      <td>0.901515</td>\n",
              "      <td>0.884250</td>\n",
              "      <td>0.892086</td>\n",
              "      <td>0.013594</td>\n",
              "      <td>4</td>\n",
              "      <td>0.913352</td>\n",
              "      <td>0.915720</td>\n",
              "      <td>0.915286</td>\n",
              "      <td>0.911500</td>\n",
              "      <td>0.908704</td>\n",
              "      <td>0.912912</td>\n",
              "      <td>0.002585</td>\n",
              "    </tr>\n",
              "  </tbody>\n",
              "</table>\n",
              "</div>"
            ],
            "text/plain": [
              "  param_clf__max_depth n_estimators  ...  mean_train  std_train_score\n",
              "3                    3         2000  ...    0.935725         0.001081\n",
              "2                    3         1500  ...    0.936766         0.002271\n",
              "0                    2         1500  ...    0.911018         0.004525\n",
              "1                    2         2000  ...    0.912912         0.002585\n",
              "\n",
              "[4 rows x 17 columns]"
            ]
          },
          "metadata": {
            "tags": []
          },
          "execution_count": 162
        }
      ]
    },
    {
      "cell_type": "code",
      "metadata": {
        "id": "tthtOmyxlQmo",
        "colab_type": "code",
        "outputId": "45a063fe-50c2-4e67-f862-53bcd1a0509f",
        "colab": {
          "base_uri": "https://localhost:8080/",
          "height": 295
        }
      },
      "source": [
        "Title = \"Learning Curves (Random Forest)\"\n",
        "\n",
        "scaled_features = StandardScaler().fit_transform(features)\n",
        "pca_features = PCA(n_components = 300).fit_transform(scaled_features)\n",
        "forest_estimator = RandomForestClassifier(max_depth = 3, n_estimators = 2000)\n",
        "cv = ShuffleSplit(n_splits=5, test_size=0.7, random_state=42)\n",
        "\n",
        "plot_learning_curve(forest_estimator, Title, pca_features, labels, ylim=(0.4, 2.), cv=cv, n_jobs=6)\n",
        "\n",
        "plt.show()"
      ],
      "execution_count": 0,
      "outputs": [
        {
          "output_type": "display_data",
          "data": {
            "image/png": "[encoded data removed]",
            "text/plain": [
              "<Figure size 432x288 with 1 Axes>"
            ]
          },
          "metadata": {
            "tags": []
          }
        }
      ]
    },
    {
      "cell_type": "markdown",
      "metadata": {
        "id": "1tvPbAWJlmOT",
        "colab_type": "text"
      },
      "source": [
        "**BASIC ADABOOST WITH DECISION TREE**"
      ]
    },
    {
      "cell_type": "code",
      "metadata": {
        "id": "h5E8dQLhlwNI",
        "colab_type": "code",
        "outputId": "749aab71-5de2-41d2-9033-340ab6673abc",
        "colab": {
          "base_uri": "https://localhost:8080/",
          "height": 530
        }
      },
      "source": [
        "tree = DecisionTreeClassifier(max_depth=1)\n",
        "\n",
        "ada_boost_pipeline = Pipeline(steps=[('scaler', StandardScaler()), \n",
        "                                  ('pca', PCA(n_components = 300)),\n",
        "                                  ('scaler_1', StandardScaler()),\n",
        "                                  ('clf', AdaBoostClassifier(tree))])\n",
        "\n",
        "features_train, features_test, labels_train, labels_test = train_test_split(features, labels, train_size=0.7, test_size=0.3, random_state = 42)\n",
        "\n",
        "ada_boost_pipeline.fit(features_train, labels_train)"
      ],
      "execution_count": 0,
      "outputs": [
        {
          "output_type": "stream",
          "text": [
            "/usr/local/lib/python3.6/dist-packages/sklearn/utils/validation.py:724: DataConversionWarning: A column-vector y was passed when a 1d array was expected. Please change the shape of y to (n_samples, ), for example using ravel().\n",
            "  y = column_or_1d(y, warn=True)\n"
          ],
          "name": "stderr"
        },
        {
          "output_type": "execute_result",
          "data": {
            "text/plain": [
              "Pipeline(memory=None,\n",
              "         steps=[('scaler',\n",
              "                 StandardScaler(copy=True, with_mean=True, with_std=True)),\n",
              "                ('pca',\n",
              "                 PCA(copy=True, iterated_power='auto', n_components=300,\n",
              "                     random_state=None, svd_solver='auto', tol=0.0,\n",
              "                     whiten=False)),\n",
              "                ('scaler_1',\n",
              "                 StandardScaler(copy=True, with_mean=True, with_std=True)),\n",
              "                ('clf',\n",
              "                 AdaBoostClassifier(algorithm='SAMME.R',\n",
              "                                    base_estimator=DecisionTreeClassifier(class_weight=None,\n",
              "                                                                          criterion='gini',\n",
              "                                                                          max_depth=1,\n",
              "                                                                          max_features=None,\n",
              "                                                                          max_leaf_nodes=None,\n",
              "                                                                          min_impurity_decrease=0.0,\n",
              "                                                                          min_impurity_split=None,\n",
              "                                                                          min_samples_leaf=1,\n",
              "                                                                          min_samples_split=2,\n",
              "                                                                          min_weight_fraction_leaf=0.0,\n",
              "                                                                          presort=False,\n",
              "                                                                          random_state=None,\n",
              "                                                                          splitter='best'),\n",
              "                                    learning_rate=1.0, n_estimators=50,\n",
              "                                    random_state=None))],\n",
              "         verbose=False)"
            ]
          },
          "metadata": {
            "tags": []
          },
          "execution_count": 183
        }
      ]
    },
    {
      "cell_type": "code",
      "metadata": {
        "id": "kUHG08JImC4W",
        "colab_type": "code",
        "outputId": "c032cc07-8d0a-4480-fef7-df6df2545897",
        "colab": {
          "base_uri": "https://localhost:8080/",
          "height": 68
        }
      },
      "source": [
        "print(\"ADABOOST Tree test accuracy score: {}\".format(forest_pipeline.score(features_test, labels_test)))\n",
        "\n",
        "print(\"ADABOOST Tree train accuracy score: {}\".format((forest_pipeline.score(features_train, labels_train)) ))\n",
        "\n",
        "print(\"ADABOOST Tree F1 score: {}\".format(f1_score(labels_test, forest_pipeline.predict(features_test))))"
      ],
      "execution_count": 0,
      "outputs": [
        {
          "output_type": "stream",
          "text": [
            "ADABOOST Tree test accuracy score: 0.9337455830388692\n",
            "ADABOOST Tree train accuracy score: 0.9965921999242711\n",
            "ADABOOST Tree F1 score: 0.9299719887955182\n"
          ],
          "name": "stdout"
        }
      ]
    },
    {
      "cell_type": "code",
      "metadata": {
        "id": "BcNB4SjTvoTn",
        "colab_type": "code",
        "outputId": "1e860d98-0382-436e-f39b-892d278c1620",
        "colab": {
          "base_uri": "https://localhost:8080/",
          "height": 598
        }
      },
      "source": [
        "params = dict(clf__n_estimators=[100, 150], clf__learning_rate=[0.1, 0.35, 0.5])\n",
        "\n",
        "kfold = StratifiedKFold(n_splits=5)\n",
        "\n",
        "ada_boost_grid_search = GridSearchCV(ada_boost_pipeline, param_grid=params, cv=kfold, return_train_score=True, n_jobs=6)\n",
        "\n",
        "ada_boost_grid_search.fit(features_train, labels_train)"
      ],
      "execution_count": 0,
      "outputs": [
        {
          "output_type": "stream",
          "text": [
            "/usr/local/lib/python3.6/dist-packages/joblib/externals/loky/process_executor.py:706: UserWarning: A worker stopped while some jobs were given to the executor. This can be caused by a too short worker timeout or by a memory leak.\n",
            "  \"timeout or by a memory leak.\", UserWarning\n",
            "/usr/local/lib/python3.6/dist-packages/sklearn/utils/validation.py:724: DataConversionWarning: A column-vector y was passed when a 1d array was expected. Please change the shape of y to (n_samples, ), for example using ravel().\n",
            "  y = column_or_1d(y, warn=True)\n"
          ],
          "name": "stderr"
        },
        {
          "output_type": "execute_result",
          "data": {
            "text/plain": [
              "GridSearchCV(cv=StratifiedKFold(n_splits=5, random_state=None, shuffle=False),\n",
              "             error_score='raise-deprecating',\n",
              "             estimator=Pipeline(memory=None,\n",
              "                                steps=[('scaler',\n",
              "                                        StandardScaler(copy=True,\n",
              "                                                       with_mean=True,\n",
              "                                                       with_std=True)),\n",
              "                                       ('pca',\n",
              "                                        PCA(copy=True, iterated_power='auto',\n",
              "                                            n_components=300, random_state=None,\n",
              "                                            svd_solver='auto', tol=0.0,\n",
              "                                            whiten=False)),\n",
              "                                       ('scaler_1',\n",
              "                                        Standar...\n",
              "                                                                                                 min_samples_leaf=1,\n",
              "                                                                                                 min_samples_split=2,\n",
              "                                                                                                 min_weight_fraction_leaf=0.0,\n",
              "                                                                                                 presort=False,\n",
              "                                                                                                 random_state=None,\n",
              "                                                                                                 splitter='best'),\n",
              "                                                           learning_rate=1.0,\n",
              "                                                           n_estimators=50,\n",
              "                                                           random_state=None))],\n",
              "                                verbose=False),\n",
              "             iid='warn', n_jobs=6,\n",
              "             param_grid={'clf__learning_rate': [0.1, 0.35, 0.5],\n",
              "                         'clf__n_estimators': [100, 150]},\n",
              "             pre_dispatch='2*n_jobs', refit=True, return_train_score=True,\n",
              "             scoring=None, verbose=0)"
            ]
          },
          "metadata": {
            "tags": []
          },
          "execution_count": 185
        }
      ]
    },
    {
      "cell_type": "code",
      "metadata": {
        "id": "sClHCTLq0c_V",
        "colab_type": "code",
        "outputId": "2e1fb822-b9f2-4417-9248-680eda164366",
        "colab": {
          "base_uri": "https://localhost:8080/",
          "height": 34
        }
      },
      "source": [
        "print(\"Basic Adaboost Random Forest Grid Search best parameters : {}\".format(ada_boost_grid_search.best_params_))"
      ],
      "execution_count": 0,
      "outputs": [
        {
          "output_type": "stream",
          "text": [
            "Basic Adaboost Random Forest Grid Search best parameters : {'clf__learning_rate': 0.5, 'clf__n_estimators': 150}\n"
          ],
          "name": "stdout"
        }
      ]
    },
    {
      "cell_type": "code",
      "metadata": {
        "id": "SuxcIqm10kXT",
        "colab_type": "code",
        "outputId": "253e5e12-92e8-4a8e-d06f-bd97f22b3915",
        "colab": {
          "base_uri": "https://localhost:8080/",
          "height": 34
        }
      },
      "source": [
        "print(\"Basic Adaboost Random Forest Grid Search best score : {}\".format(ada_boost_grid_search.best_score_))"
      ],
      "execution_count": 0,
      "outputs": [
        {
          "output_type": "stream",
          "text": [
            "Basic Adaboost Random Forest Grid Search best score : 0.9420673987126088\n"
          ],
          "name": "stdout"
        }
      ]
    },
    {
      "cell_type": "code",
      "metadata": {
        "id": "vMARDLBs11WX",
        "colab_type": "code",
        "outputId": "13d1d038-38b9-482a-8051-4344432446d0",
        "colab": {
          "base_uri": "https://localhost:8080/",
          "height": 255
        }
      },
      "source": [
        "print_grid_search_results(ada_boost_grid_search, splits=5)"
      ],
      "execution_count": 0,
      "outputs": [
        {
          "output_type": "execute_result",
          "data": {
            "text/html": [
              "<div>\n",
              "<style scoped>\n",
              "    .dataframe tbody tr th:only-of-type {\n",
              "        vertical-align: middle;\n",
              "    }\n",
              "\n",
              "    .dataframe tbody tr th {\n",
              "        vertical-align: top;\n",
              "    }\n",
              "\n",
              "    .dataframe thead th {\n",
              "        text-align: right;\n",
              "    }\n",
              "</style>\n",
              "<table border=\"1\" class=\"dataframe\">\n",
              "  <thead>\n",
              "    <tr style=\"text-align: right;\">\n",
              "      <th></th>\n",
              "      <th>param_clf__learning_rate</th>\n",
              "      <th>n_estimators</th>\n",
              "      <th>split0_test</th>\n",
              "      <th>split1_test</th>\n",
              "      <th>split2_test</th>\n",
              "      <th>split3_test</th>\n",
              "      <th>split4_test</th>\n",
              "      <th>mean_test</th>\n",
              "      <th>std_test_score</th>\n",
              "      <th>rank_test</th>\n",
              "      <th>split0_train</th>\n",
              "      <th>split1_train</th>\n",
              "      <th>split2_train</th>\n",
              "      <th>split3_train</th>\n",
              "      <th>split4_train</th>\n",
              "      <th>mean_train</th>\n",
              "      <th>std_train_score</th>\n",
              "    </tr>\n",
              "  </thead>\n",
              "  <tbody>\n",
              "    <tr>\n",
              "      <th>5</th>\n",
              "      <td>0.5</td>\n",
              "      <td>150</td>\n",
              "      <td>0.930057</td>\n",
              "      <td>0.941399</td>\n",
              "      <td>0.945076</td>\n",
              "      <td>0.946970</td>\n",
              "      <td>0.920304</td>\n",
              "      <td>0.936766</td>\n",
              "      <td>0.010100</td>\n",
              "      <td>1</td>\n",
              "      <td>0.985322</td>\n",
              "      <td>0.990530</td>\n",
              "      <td>0.987222</td>\n",
              "      <td>0.987222</td>\n",
              "      <td>0.988647</td>\n",
              "      <td>0.987789</td>\n",
              "      <td>0.001731</td>\n",
              "    </tr>\n",
              "    <tr>\n",
              "      <th>3</th>\n",
              "      <td>0.35</td>\n",
              "      <td>150</td>\n",
              "      <td>0.920605</td>\n",
              "      <td>0.941399</td>\n",
              "      <td>0.954545</td>\n",
              "      <td>0.929924</td>\n",
              "      <td>0.920304</td>\n",
              "      <td>0.933359</td>\n",
              "      <td>0.013101</td>\n",
              "      <td>2</td>\n",
              "      <td>0.974905</td>\n",
              "      <td>0.979640</td>\n",
              "      <td>0.975390</td>\n",
              "      <td>0.968765</td>\n",
              "      <td>0.970199</td>\n",
              "      <td>0.973780</td>\n",
              "      <td>0.003903</td>\n",
              "    </tr>\n",
              "    <tr>\n",
              "      <th>4</th>\n",
              "      <td>0.5</td>\n",
              "      <td>100</td>\n",
              "      <td>0.931947</td>\n",
              "      <td>0.939509</td>\n",
              "      <td>0.922348</td>\n",
              "      <td>0.928030</td>\n",
              "      <td>0.924099</td>\n",
              "      <td>0.929193</td>\n",
              "      <td>0.006136</td>\n",
              "      <td>3</td>\n",
              "      <td>0.969697</td>\n",
              "      <td>0.973011</td>\n",
              "      <td>0.970658</td>\n",
              "      <td>0.967818</td>\n",
              "      <td>0.968307</td>\n",
              "      <td>0.969898</td>\n",
              "      <td>0.001853</td>\n",
              "    </tr>\n",
              "    <tr>\n",
              "      <th>2</th>\n",
              "      <td>0.35</td>\n",
              "      <td>100</td>\n",
              "      <td>0.916824</td>\n",
              "      <td>0.926276</td>\n",
              "      <td>0.931818</td>\n",
              "      <td>0.922348</td>\n",
              "      <td>0.918406</td>\n",
              "      <td>0.923135</td>\n",
              "      <td>0.005442</td>\n",
              "      <td>4</td>\n",
              "      <td>0.957386</td>\n",
              "      <td>0.956913</td>\n",
              "      <td>0.956933</td>\n",
              "      <td>0.952201</td>\n",
              "      <td>0.954588</td>\n",
              "      <td>0.955604</td>\n",
              "      <td>0.001963</td>\n",
              "    </tr>\n",
              "    <tr>\n",
              "      <th>1</th>\n",
              "      <td>0.1</td>\n",
              "      <td>150</td>\n",
              "      <td>0.888469</td>\n",
              "      <td>0.890359</td>\n",
              "      <td>0.890152</td>\n",
              "      <td>0.886364</td>\n",
              "      <td>0.903226</td>\n",
              "      <td>0.891708</td>\n",
              "      <td>0.005927</td>\n",
              "      <td>5</td>\n",
              "      <td>0.922822</td>\n",
              "      <td>0.911932</td>\n",
              "      <td>0.913393</td>\n",
              "      <td>0.910554</td>\n",
              "      <td>0.915326</td>\n",
              "      <td>0.914805</td>\n",
              "      <td>0.004310</td>\n",
              "    </tr>\n",
              "    <tr>\n",
              "      <th>0</th>\n",
              "      <td>0.1</td>\n",
              "      <td>100</td>\n",
              "      <td>0.862004</td>\n",
              "      <td>0.873346</td>\n",
              "      <td>0.857955</td>\n",
              "      <td>0.865530</td>\n",
              "      <td>0.870968</td>\n",
              "      <td>0.865960</td>\n",
              "      <td>0.005649</td>\n",
              "      <td>6</td>\n",
              "      <td>0.890625</td>\n",
              "      <td>0.899148</td>\n",
              "      <td>0.888310</td>\n",
              "      <td>0.882158</td>\n",
              "      <td>0.886471</td>\n",
              "      <td>0.889342</td>\n",
              "      <td>0.005634</td>\n",
              "    </tr>\n",
              "  </tbody>\n",
              "</table>\n",
              "</div>"
            ],
            "text/plain": [
              "  param_clf__learning_rate n_estimators  ...  mean_train  std_train_score\n",
              "5                      0.5          150  ...    0.987789         0.001731\n",
              "3                     0.35          150  ...    0.973780         0.003903\n",
              "4                      0.5          100  ...    0.969898         0.001853\n",
              "2                     0.35          100  ...    0.955604         0.001963\n",
              "1                      0.1          150  ...    0.914805         0.004310\n",
              "0                      0.1          100  ...    0.889342         0.005634\n",
              "\n",
              "[6 rows x 17 columns]"
            ]
          },
          "metadata": {
            "tags": []
          },
          "execution_count": 88
        }
      ]
    },
    {
      "cell_type": "code",
      "metadata": {
        "id": "cVL7HdmB2FbY",
        "colab_type": "code",
        "outputId": "99fd47bd-cdfa-4639-fa47-a26e6237dae7",
        "colab": {
          "base_uri": "https://localhost:8080/",
          "height": 295
        }
      },
      "source": [
        "Title = \"Learning Curves (Basic Adaboost Tree)\"\n",
        "\n",
        "scaled_features = StandardScaler().fit_transform(features)\n",
        "pca_features = PCA(n_components = 300).fit_transform(scaled_features)\n",
        "ada_tree_estimator = AdaBoostClassifier(tree, learning_rate = 0.5, n_estimators = 150)\n",
        "cv = ShuffleSplit(n_splits=5, test_size=0.7, random_state=42)\n",
        "\n",
        "plot_learning_curve(ada_tree_estimator, Title, pca_features, labels, ylim=(0.4, 2.), cv=cv, n_jobs=6)\n",
        "\n",
        "plt.show()"
      ],
      "execution_count": 0,
      "outputs": [
        {
          "output_type": "display_data",
          "data": {
            "image/png": "[encoded data removed]",
            "text/plain": [
              "<Figure size 432x288 with 1 Axes>"
            ]
          },
          "metadata": {
            "tags": []
          }
        }
      ]
    },
    {
      "cell_type": "markdown",
      "metadata": {
        "id": "NKwk78nt9eby",
        "colab_type": "text"
      },
      "source": [
        "COMPARING THE CLASSIFIERS"
      ]
    },
    {
      "cell_type": "code",
      "metadata": {
        "id": "k3901h4_9eFH",
        "colab_type": "code",
        "outputId": "fa1bf195-6928-45be-d642-298418096c45",
        "colab": {
          "base_uri": "https://localhost:8080/",
          "height": 204
        }
      },
      "source": [
        "the_scores = {'Classifier' : ['Logistic Regression', \n",
        "                                         'Linear SVM', \n",
        "                                         'Gaussian SVM', \n",
        "                                         'Random Forest', \n",
        "                                         'AdaBoost with Decision tree'] ,\n",
        "                         'Best Score' : [grid_search_logistic_regression.best_score_, \n",
        "                                         grid_search_linear_svm.best_score_, \n",
        "                                         grid_search_svm.best_score_,\n",
        "                                         grid_search_forest.best_score_,\n",
        "                                         ada_boost_grid_search.best_score_]}\n",
        "\n",
        "the_algos = pd.DataFrame(data = the_scores)\n",
        "\n",
        "the_algos"
      ],
      "execution_count": 0,
      "outputs": [
        {
          "output_type": "execute_result",
          "data": {
            "text/html": [
              "<div>\n",
              "<style scoped>\n",
              "    .dataframe tbody tr th:only-of-type {\n",
              "        vertical-align: middle;\n",
              "    }\n",
              "\n",
              "    .dataframe tbody tr th {\n",
              "        vertical-align: top;\n",
              "    }\n",
              "\n",
              "    .dataframe thead th {\n",
              "        text-align: right;\n",
              "    }\n",
              "</style>\n",
              "<table border=\"1\" class=\"dataframe\">\n",
              "  <thead>\n",
              "    <tr style=\"text-align: right;\">\n",
              "      <th></th>\n",
              "      <th>Classifier</th>\n",
              "      <th>Best Score</th>\n",
              "    </tr>\n",
              "  </thead>\n",
              "  <tbody>\n",
              "    <tr>\n",
              "      <th>0</th>\n",
              "      <td>Logistic Regression</td>\n",
              "      <td>0.951912</td>\n",
              "    </tr>\n",
              "    <tr>\n",
              "      <th>1</th>\n",
              "      <td>Linear SVM</td>\n",
              "      <td>0.945475</td>\n",
              "    </tr>\n",
              "    <tr>\n",
              "      <th>2</th>\n",
              "      <td>Gaussian SVM</td>\n",
              "      <td>0.970087</td>\n",
              "    </tr>\n",
              "    <tr>\n",
              "      <th>3</th>\n",
              "      <td>Random Forest</td>\n",
              "      <td>0.914048</td>\n",
              "    </tr>\n",
              "    <tr>\n",
              "      <th>4</th>\n",
              "      <td>AdaBoost with Decision tree</td>\n",
              "      <td>0.936766</td>\n",
              "    </tr>\n",
              "  </tbody>\n",
              "</table>\n",
              "</div>"
            ],
            "text/plain": [
              "                    Classifier  Best Score\n",
              "0          Logistic Regression    0.951912\n",
              "1                   Linear SVM    0.945475\n",
              "2                 Gaussian SVM    0.970087\n",
              "3                Random Forest    0.914048\n",
              "4  AdaBoost with Decision tree    0.936766"
            ]
          },
          "metadata": {
            "tags": []
          },
          "execution_count": 146
        }
      ]
    }
  ]
}